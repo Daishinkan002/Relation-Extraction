{
  "nbformat": 4,
  "nbformat_minor": 0,
  "metadata": {
    "colab": {
      "name": "RE_Supervised.ipynb",
      "provenance": []
    },
    "kernelspec": {
      "name": "python3",
      "display_name": "Python 3",
      "language": "python"
    },
    "language_info": {
      "name": "python",
      "version": "3.8.5"
    },
    "accelerator": "GPU"
  },
  "cells": [
    {
      "cell_type": "code",
      "metadata": {
        "id": "30_EgaSf4UDa"
      },
      "source": [
        "import pandas as pd\n",
        "import numpy as np\n",
        "from keras.preprocessing.text import Tokenizer\n",
        "from keras.preprocessing.sequence import pad_sequences\n",
        "from sklearn.model_selection import train_test_split\n",
        "from keras import utils as np_utils\n",
        "from tqdm import tqdm\n",
        "import re"
      ],
      "execution_count": 1,
      "outputs": [
        {
          "output_type": "stream",
          "name": "stderr",
          "text": [
            "/usr/lib/python3/dist-packages/requests/__init__.py:89: RequestsDependencyWarning: urllib3 (1.26.4) or chardet (3.0.4) doesn't match a supported version!\n  warnings.warn(\"urllib3 ({}) or chardet ({}) doesn't match a supported \"\n"
          ]
        }
      ]
    },
    {
      "cell_type": "code",
      "metadata": {
        "id": "0FJETdsk4adu"
      },
      "source": [
        "train_df = pd.read_json('../Dataset/raw_train.json', lines = True)"
      ],
      "execution_count": 5,
      "outputs": []
    },
    {
      "cell_type": "code",
      "metadata": {
        "colab": {
          "base_uri": "https://localhost:8080/"
        },
        "id": "uMtiqfBT4jza",
        "outputId": "1450c293-d7ed-4b72-c7a8-16f2fadc3796"
      },
      "source": [
        "print(train_df.columns)"
      ],
      "execution_count": 6,
      "outputs": [
        {
          "output_type": "stream",
          "name": "stdout",
          "text": [
            "Index(['sentText', 'articleId', 'relationMentions', 'entityMentions',\n       'sentId'],\n      dtype='object')\n"
          ]
        }
      ]
    },
    {
      "cell_type": "code",
      "metadata": {
        "colab": {
          "base_uri": "https://localhost:8080/",
          "height": 293
        },
        "id": "eNodE-ay4tOQ",
        "outputId": "8b02f439-6847-4166-9262-c91f8b5c5d56"
      },
      "source": [
        "train_df.head()"
      ],
      "execution_count": null,
      "outputs": [
        {
          "output_type": "execute_result",
          "data": {
            "text/html": [
              "<div>\n",
              "<style scoped>\n",
              "    .dataframe tbody tr th:only-of-type {\n",
              "        vertical-align: middle;\n",
              "    }\n",
              "\n",
              "    .dataframe tbody tr th {\n",
              "        vertical-align: top;\n",
              "    }\n",
              "\n",
              "    .dataframe thead th {\n",
              "        text-align: right;\n",
              "    }\n",
              "</style>\n",
              "<table border=\"1\" class=\"dataframe\">\n",
              "  <thead>\n",
              "    <tr style=\"text-align: right;\">\n",
              "      <th></th>\n",
              "      <th>sentText</th>\n",
              "      <th>articleId</th>\n",
              "      <th>relationMentions</th>\n",
              "      <th>entityMentions</th>\n",
              "      <th>sentId</th>\n",
              "    </tr>\n",
              "  </thead>\n",
              "  <tbody>\n",
              "    <tr>\n",
              "      <th>0</th>\n",
              "      <td>Massachusetts ASTON MAGNA Great Barrington ; a...</td>\n",
              "      <td>/m/vinci8/data1/riedel/projects/relation/kb/ny...</td>\n",
              "      <td>[{'em1Text': 'Annandale-on-Hudson', 'em2Text':...</td>\n",
              "      <td>[{'start': 1, 'label': 'ORGANIZATION', 'text':...</td>\n",
              "      <td>1</td>\n",
              "    </tr>\n",
              "    <tr>\n",
              "      <th>1</th>\n",
              "      <td>North Carolina EASTERN MUSIC FESTIVAL Greensbo...</td>\n",
              "      <td>/m/vinci8/data1/riedel/projects/relation/kb/ny...</td>\n",
              "      <td>[{'em1Text': 'North Carolina', 'em2Text': 'Gre...</td>\n",
              "      <td>[{'start': 0, 'label': 'LOCATION', 'text': 'No...</td>\n",
              "      <td>2</td>\n",
              "    </tr>\n",
              "    <tr>\n",
              "      <th>2</th>\n",
              "      <td>It will be the final movie credited to Debra H...</td>\n",
              "      <td>/m/vinci8/data1/riedel/projects/relation/kb/ny...</td>\n",
              "      <td>[{'em1Text': 'Debra Hill', 'em2Text': 'Haddonf...</td>\n",
              "      <td>[{'start': 0, 'label': 'LOCATION', 'text': 'De...</td>\n",
              "      <td>1</td>\n",
              "    </tr>\n",
              "    <tr>\n",
              "      <th>3</th>\n",
              "      <td>In a 3-0 victory over the Crew on Saturday in ...</td>\n",
              "      <td>/m/vinci8/data1/riedel/projects/relation/kb/ny...</td>\n",
              "      <td>[{'em1Text': 'Ohio', 'em2Text': 'Columbus', 'l...</td>\n",
              "      <td>[{'start': 0, 'label': 'LOCATION', 'text': 'Co...</td>\n",
              "      <td>1</td>\n",
              "    </tr>\n",
              "    <tr>\n",
              "      <th>4</th>\n",
              "      <td>The United States ambassador to Mexico , Tony ...</td>\n",
              "      <td>/m/vinci8/data1/riedel/projects/relation/kb/ny...</td>\n",
              "      <td>[{'em1Text': 'Mexico', 'em2Text': 'Nuevo Lared...</td>\n",
              "      <td>[{'start': 0, 'label': 'LOCATION', 'text': 'Un...</td>\n",
              "      <td>1</td>\n",
              "    </tr>\n",
              "  </tbody>\n",
              "</table>\n",
              "</div>"
            ],
            "text/plain": [
              "                                            sentText  ... sentId\n",
              "0  Massachusetts ASTON MAGNA Great Barrington ; a...  ...      1\n",
              "1  North Carolina EASTERN MUSIC FESTIVAL Greensbo...  ...      2\n",
              "2  It will be the final movie credited to Debra H...  ...      1\n",
              "3  In a 3-0 victory over the Crew on Saturday in ...  ...      1\n",
              "4  The United States ambassador to Mexico , Tony ...  ...      1\n",
              "\n",
              "[5 rows x 5 columns]"
            ]
          },
          "metadata": {
            "tags": []
          },
          "execution_count": 7
        }
      ]
    },
    {
      "cell_type": "code",
      "metadata": {
        "id": "H3dXrXAq47zE"
      },
      "source": [
        "#rel_sets -> relation_sets\n",
        "relations = []\n",
        "for rel_sets in train_df['relationMentions']:\n",
        "  relations.append(rel_sets[0]['label'])\n",
        "train_df['relations'] = relations"
      ],
      "execution_count": null,
      "outputs": []
    },
    {
      "cell_type": "code",
      "metadata": {
        "colab": {
          "base_uri": "https://localhost:8080/"
        },
        "id": "P01rS2Oz5vw9",
        "outputId": "1494c750-8287-48ac-d4a4-54fc997cbbaf"
      },
      "source": [
        "train_df['relations']"
      ],
      "execution_count": null,
      "outputs": [
        {
          "output_type": "execute_result",
          "data": {
            "text/plain": [
              "0                   /location/location/contains\n",
              "1                   /location/location/contains\n",
              "2                 /people/person/place_of_birth\n",
              "3                   /location/location/contains\n",
              "4                   /location/location/contains\n",
              "                          ...                  \n",
              "56191               /location/location/contains\n",
              "56192                 /location/country/capital\n",
              "56193                  /business/person/company\n",
              "56194    /location/neighborhood/neighborhood_of\n",
              "56195    /location/neighborhood/neighborhood_of\n",
              "Name: relations, Length: 56196, dtype: object"
            ]
          },
          "metadata": {
            "tags": []
          },
          "execution_count": 9
        }
      ]
    },
    {
      "cell_type": "code",
      "metadata": {
        "colab": {
          "base_uri": "https://localhost:8080/"
        },
        "id": "JrL7cLOC52_-",
        "outputId": "c618e334-bc00-453d-da1c-f0218bdb83b9"
      },
      "source": [
        "train_df['relations'].value_counts()"
      ],
      "execution_count": null,
      "outputs": [
        {
          "output_type": "execute_result",
          "data": {
            "text/plain": [
              "/location/location/contains                           30240\n",
              "/people/person/nationality                             5219\n",
              "/people/person/place_lived                             5024\n",
              "/business/person/company                               3971\n",
              "/location/country/capital                              2430\n",
              "/location/neighborhood/neighborhood_of                 2108\n",
              "/people/person/place_of_birth                          1580\n",
              "/location/country/administrative_divisions             1518\n",
              "/location/administrative_division/country              1517\n",
              "/people/deceased_person/place_of_death                 1023\n",
              "/people/person/children                                 381\n",
              "/business/company/founders                              377\n",
              "/business/company/place_founded                         318\n",
              "/business/company_shareholder/major_shareholder_of       98\n",
              "/sports/sports_team_location/teams                       88\n",
              "/sports/sports_team/location                             86\n",
              "/business/company/major_shareholders                     84\n",
              "/people/person/religion                                  53\n",
              "/business/company/advisors                               34\n",
              "/people/ethnicity/geographic_distribution                26\n",
              "/people/person/ethnicity                                  9\n",
              "/people/ethnicity/people                                  9\n",
              "/people/person/profession                                 2\n",
              "/business/company/industry                                1\n",
              "Name: relations, dtype: int64"
            ]
          },
          "metadata": {
            "tags": []
          },
          "execution_count": 10
        }
      ]
    },
    {
      "cell_type": "code",
      "metadata": {
        "colab": {
          "base_uri": "https://localhost:8080/"
        },
        "id": "94dxDVLE6Ann",
        "outputId": "332a1d51-33aa-4137-822d-e6405384f380"
      },
      "source": [
        "train_df['sentText'].head()"
      ],
      "execution_count": null,
      "outputs": [
        {
          "output_type": "execute_result",
          "data": {
            "text/plain": [
              "0    Massachusetts ASTON MAGNA Great Barrington ; a...\n",
              "1    North Carolina EASTERN MUSIC FESTIVAL Greensbo...\n",
              "2    It will be the final movie credited to Debra H...\n",
              "3    In a 3-0 victory over the Crew on Saturday in ...\n",
              "4    The United States ambassador to Mexico , Tony ...\n",
              "Name: sentText, dtype: object"
            ]
          },
          "metadata": {
            "tags": []
          },
          "execution_count": 11
        }
      ]
    },
    {
      "cell_type": "code",
      "metadata": {
        "id": "HZo5BYO96Sxc"
      },
      "source": [
        "X = []\n",
        "for data in train_df['sentText']:\n",
        "  X.append(data.lower())"
      ],
      "execution_count": null,
      "outputs": []
    },
    {
      "cell_type": "code",
      "metadata": {
        "colab": {
          "base_uri": "https://localhost:8080/"
        },
        "id": "7Nuae3Hm6vwY",
        "outputId": "1cdb62a4-eb5f-4dab-d556-0d9c0a42a763"
      },
      "source": [
        "X[:10]"
      ],
      "execution_count": null,
      "outputs": [
        {
          "output_type": "execute_result",
          "data": {
            "text/plain": [
              "['massachusetts aston magna great barrington ; also at bard college , annandale-on-hudson , n.y. , july 1-aug .',\n",
              " 'north carolina eastern music festival greensboro , june 25-july 30 .',\n",
              " \"it will be the final movie credited to debra hill , a film producer and native of haddonfield , who produced '' halloween '' and was considered a pioneering woman in film .\",\n",
              " \"in a 3-0 victory over the crew on saturday in columbus , ohio , goalkeeper zach wells stopped kyle martino 's penalty kick , only the third unsuccessful penalty in 20 attempts in m.l.s. this season .\",\n",
              " \"the united states ambassador to mexico , tony garza , said in a statement that he had directed the american consulate in nuevo laredo to reopen on monday , a week after he ordered it closed because of '' rampant violence '' along the northern border , including a gun battle in the city in which warring drug gangs used bazookas .\",\n",
              " 'under pressure from mr. kerkorian and other disgruntled shareholders , mr. wagoner started talks on friday in detroit with carlos ghosn , the chief executive of renault and nissan .',\n",
              " 'mr. ferrer still holds commanding leads over the other two democrats in the race -- united states representative anthony d. weiner of brooklyn and queens , and city council speaker gifford miller -- and is also ahead of mayor michael r. bloomberg in most polls .',\n",
              " \"united states representative charles b. rangel said yesterday that he would endorse c. virginia fields in new york city 's democratic mayoral primary , giving her a jolt of momentum and delivering a setback to the efforts of fernando ferrer , the former bronx borough president , to win black support .\",\n",
              " \"these are tough changes , and some of them will be quite controversial among our colleagues here , '' senator joseph i. lieberman , democrat of connecticut , said thursday as he endorsed a plan developed by senator john mccain , republican of arizona , after his hearings into mr. abramoff 's bilking of indian tribes through a lobbying operation .\",\n",
              " \"quebec , canada 's second most populous province , after ontario , has not decided to go that far .\"]"
            ]
          },
          "metadata": {
            "tags": []
          },
          "execution_count": 13
        }
      ]
    },
    {
      "cell_type": "code",
      "metadata": {
        "id": "n4T1_hGQ7BYL"
      },
      "source": [
        "def find_max_len(x, max_len):\n",
        "  if(max_len < len(x.split())):\n",
        "    max_len = len(x.split())\n",
        "  return max_len"
      ],
      "execution_count": null,
      "outputs": []
    },
    {
      "cell_type": "code",
      "metadata": {
        "colab": {
          "base_uri": "https://localhost:8080/"
        },
        "id": "pE26byC26xE5",
        "outputId": "42537beb-e660-4d8a-d154-82a81a583d9a"
      },
      "source": [
        "max_len = 0\n",
        "for x in train_df['sentText']:\n",
        "  max_len = find_max_len(x, max_len)\n",
        "print(\"Max Length = \", max_len)"
      ],
      "execution_count": null,
      "outputs": [
        {
          "output_type": "stream",
          "text": [
            "Max Length =  100\n"
          ],
          "name": "stdout"
        }
      ]
    },
    {
      "cell_type": "code",
      "metadata": {
        "colab": {
          "base_uri": "https://localhost:8080/"
        },
        "id": "yCL2zoj469f4",
        "outputId": "40bc5cb7-781c-4bef-9e53-4015a0ecac8c"
      },
      "source": [
        "n_most_common_words = 65000 # vocabulary size\n",
        "max_len = 100 # Max Length of Sequence\n",
        "tokenizer = Tokenizer(num_words=n_most_common_words, filters='!\"#$%&()*+,-./:;=?@[]^_`{|}~', lower=True)\n",
        "tokenizer.fit_on_texts(train_df['sentText'].values)\n",
        "sequences = tokenizer.texts_to_sequences(train_df['sentText'].values)\n",
        "word_index = tokenizer.word_index\n",
        "print('Found %s unique tokens.' % len(word_index))\n",
        "X = pad_sequences(sequences, maxlen=max_len) "
      ],
      "execution_count": null,
      "outputs": [
        {
          "output_type": "stream",
          "text": [
            "Found 64188 unique tokens.\n"
          ],
          "name": "stdout"
        }
      ]
    },
    {
      "cell_type": "code",
      "metadata": {
        "id": "uECocefQKIsI"
      },
      "source": [
        "sequences"
      ],
      "execution_count": null,
      "outputs": []
    },
    {
      "cell_type": "code",
      "metadata": {
        "colab": {
          "base_uri": "https://localhost:8080/"
        },
        "id": "ONWuX8VL7X1U",
        "outputId": "cf374bd7-b95c-49da-e217-6a1e9d4e18e0"
      },
      "source": [
        "print(\"Found\", len(train_df.relations.unique()), \"relations\")"
      ],
      "execution_count": null,
      "outputs": [
        {
          "output_type": "stream",
          "text": [
            "Found 24 relations\n"
          ],
          "name": "stdout"
        }
      ]
    },
    {
      "cell_type": "code",
      "metadata": {
        "id": "6nOQ3X5E7m0m"
      },
      "source": [
        "dictionary = {}\n",
        "rev_dictionary = {}\n",
        "for i, rel in enumerate(train_df.relations.unique()):\n",
        "  #map relation to index\n",
        "  dictionary[rel] = i\n",
        "  #map index to relation\n",
        "  rev_dictionary[i] = rel"
      ],
      "execution_count": null,
      "outputs": []
    },
    {
      "cell_type": "code",
      "metadata": {
        "colab": {
          "base_uri": "https://localhost:8080/"
        },
        "id": "VZOnydCg78vq",
        "outputId": "09da1ece-960d-4087-b62b-6b17f55061f9"
      },
      "source": [
        "print(\"Length of Relations = \", len(dictionary))\n",
        "for key, values in dictionary.items():\n",
        "  print(values, \"  ----->   \", key)"
      ],
      "execution_count": null,
      "outputs": [
        {
          "output_type": "stream",
          "text": [
            "Length of Relations =  24\n",
            "0   ----->    /location/location/contains\n",
            "1   ----->    /people/person/place_of_birth\n",
            "2   ----->    /business/person/company\n",
            "3   ----->    /people/person/place_lived\n",
            "4   ----->    /location/administrative_division/country\n",
            "5   ----->    /people/person/religion\n",
            "6   ----->    /people/person/nationality\n",
            "7   ----->    /people/person/children\n",
            "8   ----->    /location/country/capital\n",
            "9   ----->    /business/company/place_founded\n",
            "10   ----->    /people/deceased_person/place_of_death\n",
            "11   ----->    /location/country/administrative_divisions\n",
            "12   ----->    /business/company/founders\n",
            "13   ----->    /location/neighborhood/neighborhood_of\n",
            "14   ----->    /business/company/advisors\n",
            "15   ----->    /people/ethnicity/geographic_distribution\n",
            "16   ----->    /sports/sports_team_location/teams\n",
            "17   ----->    /sports/sports_team/location\n",
            "18   ----->    /business/company_shareholder/major_shareholder_of\n",
            "19   ----->    /business/company/major_shareholders\n",
            "20   ----->    /people/person/ethnicity\n",
            "21   ----->    /people/ethnicity/people\n",
            "22   ----->    /people/person/profession\n",
            "23   ----->    /business/company/industry\n"
          ],
          "name": "stdout"
        }
      ]
    },
    {
      "cell_type": "code",
      "metadata": {
        "id": "C99aHTby7_mu"
      },
      "source": [
        "encoded_relations = []\n",
        "for rel in train_df['relations']:\n",
        "  encoded_relations.append(dictionary[rel])\n",
        "train_df['encoded_relations'] = encoded_relations"
      ],
      "execution_count": null,
      "outputs": []
    },
    {
      "cell_type": "code",
      "metadata": {
        "colab": {
          "base_uri": "https://localhost:8080/",
          "height": 293
        },
        "id": "2rVD0hIH8nns",
        "outputId": "4512c6a3-15f6-4ec6-e46b-52c8a5f4be14"
      },
      "source": [
        "train_df.head()"
      ],
      "execution_count": null,
      "outputs": [
        {
          "output_type": "execute_result",
          "data": {
            "text/html": [
              "<div>\n",
              "<style scoped>\n",
              "    .dataframe tbody tr th:only-of-type {\n",
              "        vertical-align: middle;\n",
              "    }\n",
              "\n",
              "    .dataframe tbody tr th {\n",
              "        vertical-align: top;\n",
              "    }\n",
              "\n",
              "    .dataframe thead th {\n",
              "        text-align: right;\n",
              "    }\n",
              "</style>\n",
              "<table border=\"1\" class=\"dataframe\">\n",
              "  <thead>\n",
              "    <tr style=\"text-align: right;\">\n",
              "      <th></th>\n",
              "      <th>sentText</th>\n",
              "      <th>articleId</th>\n",
              "      <th>relationMentions</th>\n",
              "      <th>entityMentions</th>\n",
              "      <th>sentId</th>\n",
              "      <th>relations</th>\n",
              "      <th>encoded_relations</th>\n",
              "    </tr>\n",
              "  </thead>\n",
              "  <tbody>\n",
              "    <tr>\n",
              "      <th>0</th>\n",
              "      <td>Massachusetts ASTON MAGNA Great Barrington ; a...</td>\n",
              "      <td>/m/vinci8/data1/riedel/projects/relation/kb/ny...</td>\n",
              "      <td>[{'em1Text': 'Annandale-on-Hudson', 'em2Text':...</td>\n",
              "      <td>[{'start': 1, 'label': 'ORGANIZATION', 'text':...</td>\n",
              "      <td>1</td>\n",
              "      <td>/location/location/contains</td>\n",
              "      <td>0</td>\n",
              "    </tr>\n",
              "    <tr>\n",
              "      <th>1</th>\n",
              "      <td>North Carolina EASTERN MUSIC FESTIVAL Greensbo...</td>\n",
              "      <td>/m/vinci8/data1/riedel/projects/relation/kb/ny...</td>\n",
              "      <td>[{'em1Text': 'North Carolina', 'em2Text': 'Gre...</td>\n",
              "      <td>[{'start': 0, 'label': 'LOCATION', 'text': 'No...</td>\n",
              "      <td>2</td>\n",
              "      <td>/location/location/contains</td>\n",
              "      <td>0</td>\n",
              "    </tr>\n",
              "    <tr>\n",
              "      <th>2</th>\n",
              "      <td>It will be the final movie credited to Debra H...</td>\n",
              "      <td>/m/vinci8/data1/riedel/projects/relation/kb/ny...</td>\n",
              "      <td>[{'em1Text': 'Debra Hill', 'em2Text': 'Haddonf...</td>\n",
              "      <td>[{'start': 0, 'label': 'LOCATION', 'text': 'De...</td>\n",
              "      <td>1</td>\n",
              "      <td>/people/person/place_of_birth</td>\n",
              "      <td>1</td>\n",
              "    </tr>\n",
              "    <tr>\n",
              "      <th>3</th>\n",
              "      <td>In a 3-0 victory over the Crew on Saturday in ...</td>\n",
              "      <td>/m/vinci8/data1/riedel/projects/relation/kb/ny...</td>\n",
              "      <td>[{'em1Text': 'Ohio', 'em2Text': 'Columbus', 'l...</td>\n",
              "      <td>[{'start': 0, 'label': 'LOCATION', 'text': 'Co...</td>\n",
              "      <td>1</td>\n",
              "      <td>/location/location/contains</td>\n",
              "      <td>0</td>\n",
              "    </tr>\n",
              "    <tr>\n",
              "      <th>4</th>\n",
              "      <td>The United States ambassador to Mexico , Tony ...</td>\n",
              "      <td>/m/vinci8/data1/riedel/projects/relation/kb/ny...</td>\n",
              "      <td>[{'em1Text': 'Mexico', 'em2Text': 'Nuevo Lared...</td>\n",
              "      <td>[{'start': 0, 'label': 'LOCATION', 'text': 'Un...</td>\n",
              "      <td>1</td>\n",
              "      <td>/location/location/contains</td>\n",
              "      <td>0</td>\n",
              "    </tr>\n",
              "  </tbody>\n",
              "</table>\n",
              "</div>"
            ],
            "text/plain": [
              "                                            sentText  ... encoded_relations\n",
              "0  Massachusetts ASTON MAGNA Great Barrington ; a...  ...                 0\n",
              "1  North Carolina EASTERN MUSIC FESTIVAL Greensbo...  ...                 0\n",
              "2  It will be the final movie credited to Debra H...  ...                 1\n",
              "3  In a 3-0 victory over the Crew on Saturday in ...  ...                 0\n",
              "4  The United States ambassador to Mexico , Tony ...  ...                 0\n",
              "\n",
              "[5 rows x 7 columns]"
            ]
          },
          "metadata": {
            "tags": []
          },
          "execution_count": 21
        }
      ]
    },
    {
      "cell_type": "code",
      "metadata": {
        "id": "6EgQO8l88qKg"
      },
      "source": [
        "labels = np_utils.to_categorical(train_df['encoded_relations'], num_classes=len(train_df.encoded_relations.unique()))\n",
        "X_train, X_test, y_train, y_test = train_test_split(X , labels, test_size=0.20, random_state=42)"
      ],
      "execution_count": null,
      "outputs": []
    },
    {
      "cell_type": "code",
      "metadata": {
        "id": "V52vOHaI8-f7"
      },
      "source": [
        "from keras.models import Sequential\n",
        "from keras.layers import Embedding, LSTM, Dense, Bidirectional\n",
        "from sklearn.metrics import confusion_matrix, classification_report"
      ],
      "execution_count": null,
      "outputs": []
    },
    {
      "cell_type": "code",
      "metadata": {
        "colab": {
          "base_uri": "https://localhost:8080/"
        },
        "id": "bU8RXSl49B7h",
        "outputId": "76eeb484-d8a6-49a0-c94e-4b629679c5a7"
      },
      "source": [
        "embedding_size = 300\n",
        "model = Sequential()\n",
        "model.add(Embedding(n_most_common_words, embedding_size, input_length=X.shape[1]))\n",
        "model.add(Bidirectional(LSTM(128, dropout=0.7, recurrent_dropout=0.7)))\n",
        "model.add(Dense(labels.shape[1], activation='softmax'))\n",
        "model.compile(optimizer='adam', loss='categorical_crossentropy', metrics=['acc'])\n",
        "print(model.summary())"
      ],
      "execution_count": null,
      "outputs": [
        {
          "output_type": "stream",
          "text": [
            "WARNING:tensorflow:Layer lstm will not use cuDNN kernel since it doesn't meet the cuDNN kernel criteria. It will use generic GPU kernel as fallback when running on GPU\n",
            "WARNING:tensorflow:Layer lstm will not use cuDNN kernel since it doesn't meet the cuDNN kernel criteria. It will use generic GPU kernel as fallback when running on GPU\n",
            "WARNING:tensorflow:Layer lstm will not use cuDNN kernel since it doesn't meet the cuDNN kernel criteria. It will use generic GPU kernel as fallback when running on GPU\n",
            "Model: \"sequential\"\n",
            "_________________________________________________________________\n",
            "Layer (type)                 Output Shape              Param #   \n",
            "=================================================================\n",
            "embedding (Embedding)        (None, 100, 300)          19500000  \n",
            "_________________________________________________________________\n",
            "bidirectional (Bidirectional (None, 256)               439296    \n",
            "_________________________________________________________________\n",
            "dense (Dense)                (None, 24)                6168      \n",
            "=================================================================\n",
            "Total params: 19,945,464\n",
            "Trainable params: 19,945,464\n",
            "Non-trainable params: 0\n",
            "_________________________________________________________________\n",
            "None\n"
          ],
          "name": "stdout"
        }
      ]
    },
    {
      "cell_type": "code",
      "metadata": {
        "colab": {
          "base_uri": "https://localhost:8080/"
        },
        "id": "Be6Lr2OG9E-Q",
        "outputId": "1cff89bd-2d71-4df4-b428-188441291253"
      },
      "source": [
        "model.fit(X_train, y_train, epochs=10, batch_size=128, validation_split=0.2)"
      ],
      "execution_count": null,
      "outputs": [
        {
          "output_type": "stream",
          "text": [
            "Epoch 1/10\n",
            "281/281 [==============================] - 274s 949ms/step - loss: 1.7825 - acc: 0.5450 - val_loss: 1.1063 - val_acc: 0.6848\n",
            "Epoch 2/10\n",
            "281/281 [==============================] - 270s 962ms/step - loss: 0.9786 - acc: 0.7112 - val_loss: 0.9150 - val_acc: 0.7022\n",
            "Epoch 3/10\n",
            "281/281 [==============================] - 270s 961ms/step - loss: 0.6838 - acc: 0.7688 - val_loss: 0.9431 - val_acc: 0.7083\n",
            "Epoch 4/10\n",
            "281/281 [==============================] - 270s 962ms/step - loss: 0.5115 - acc: 0.8251 - val_loss: 0.9472 - val_acc: 0.7083\n",
            "Epoch 5/10\n",
            "281/281 [==============================] - 269s 958ms/step - loss: 0.3875 - acc: 0.8653 - val_loss: 1.0588 - val_acc: 0.7135\n",
            "Epoch 6/10\n",
            "281/281 [==============================] - 269s 959ms/step - loss: 0.2975 - acc: 0.8950 - val_loss: 1.1809 - val_acc: 0.7129\n",
            "Epoch 7/10\n",
            "281/281 [==============================] - 272s 969ms/step - loss: 0.2458 - acc: 0.9128 - val_loss: 1.1953 - val_acc: 0.7021\n",
            "Epoch 8/10\n",
            "281/281 [==============================] - 267s 949ms/step - loss: 0.2040 - acc: 0.9280 - val_loss: 1.2300 - val_acc: 0.7043\n",
            "Epoch 9/10\n",
            "281/281 [==============================] - 265s 942ms/step - loss: 0.1664 - acc: 0.9421 - val_loss: 1.2786 - val_acc: 0.7105\n",
            "Epoch 10/10\n",
            "281/281 [==============================] - 263s 937ms/step - loss: 0.1386 - acc: 0.9517 - val_loss: 1.4021 - val_acc: 0.7052\n"
          ],
          "name": "stdout"
        },
        {
          "output_type": "execute_result",
          "data": {
            "text/plain": [
              "<tensorflow.python.keras.callbacks.History at 0x7f1fa821d250>"
            ]
          },
          "metadata": {
            "tags": []
          },
          "execution_count": 26
        }
      ]
    },
    {
      "cell_type": "code",
      "metadata": {
        "colab": {
          "base_uri": "https://localhost:8080/"
        },
        "id": "m4pWILWQ9Kii",
        "outputId": "07ca74e9-cf51-4e26-daa9-b3461a908114"
      },
      "source": [
        "prediction_probas = model.predict(X_test)\n",
        "predictions = [np.argmax(pred) for pred in prediction_probas]\n",
        "print(predictions[:10])"
      ],
      "execution_count": null,
      "outputs": [
        {
          "output_type": "stream",
          "text": [
            "[10, 6, 11, 11, 0, 6, 0, 0, 13, 4]\n"
          ],
          "name": "stdout"
        }
      ]
    },
    {
      "cell_type": "code",
      "metadata": {
        "id": "I9nV4gS0ICja"
      },
      "source": [
        "y_test_dup=np.argmax(y_test, axis=1)"
      ],
      "execution_count": null,
      "outputs": []
    },
    {
      "cell_type": "code",
      "metadata": {
        "id": "wzlDFQymIHdi"
      },
      "source": [
        "print(confusion_matrix(y_test_dup, predictions))"
      ],
      "execution_count": null,
      "outputs": []
    },
    {
      "cell_type": "code",
      "metadata": {
        "colab": {
          "base_uri": "https://localhost:8080/"
        },
        "id": "sWpArTNoIKYm",
        "outputId": "b717b6ab-9bc3-4fee-f965-c83a4f9529b9"
      },
      "source": [
        "print(classification_report(y_test_dup, predictions, digits=3))"
      ],
      "execution_count": null,
      "outputs": [
        {
          "output_type": "stream",
          "text": [
            "              precision    recall  f1-score   support\n",
            "\n",
            "           0      0.798     0.843     0.820      6042\n",
            "           1      0.269     0.338     0.300       278\n",
            "           2      0.855     0.726     0.785       851\n",
            "           3      0.793     0.658     0.720      1013\n",
            "           4      0.247     0.311     0.275       286\n",
            "           5      0.000     0.000     0.000        12\n",
            "           6      0.769     0.774     0.772      1030\n",
            "           7      0.525     0.405     0.457        79\n",
            "           8      0.430     0.304     0.356       483\n",
            "           9      0.576     0.237     0.336        80\n",
            "          10      0.449     0.271     0.338       210\n",
            "          11      0.278     0.300     0.289       283\n",
            "          12      0.357     0.495     0.415        91\n",
            "          13      0.389     0.490     0.434       412\n",
            "          14      1.000     0.429     0.600         7\n",
            "          15      0.000     0.000     0.000         5\n",
            "          16      0.250     0.188     0.214        16\n",
            "          17      0.000     0.000     0.000        16\n",
            "          18      0.500     0.222     0.308        27\n",
            "          19      0.000     0.000     0.000        17\n",
            "          21      0.000     0.000     0.000         2\n",
            "\n",
            "    accuracy                          0.708     11240\n",
            "   macro avg      0.404     0.333     0.353     11240\n",
            "weighted avg      0.710     0.708     0.705     11240\n",
            "\n"
          ],
          "name": "stdout"
        },
        {
          "output_type": "stream",
          "text": [
            "/usr/local/lib/python3.7/dist-packages/sklearn/metrics/_classification.py:1272: UndefinedMetricWarning: Precision and F-score are ill-defined and being set to 0.0 in labels with no predicted samples. Use `zero_division` parameter to control this behavior.\n",
            "  _warn_prf(average, modifier, msg_start, len(result))\n"
          ],
          "name": "stderr"
        }
      ]
    },
    {
      "cell_type": "code",
      "metadata": {
        "id": "exiI0t1rIT6O"
      },
      "source": [
        "# Testing ------\n",
        "seq = tokenizer.texts_to_sequences(['Steve Jobs Founded Apple'])"
      ],
      "execution_count": null,
      "outputs": []
    },
    {
      "cell_type": "code",
      "metadata": {
        "id": "A-XDWUSVI-uT"
      },
      "source": [
        "test_sent = pad_sequences(seq, max_len)"
      ],
      "execution_count": null,
      "outputs": []
    },
    {
      "cell_type": "code",
      "metadata": {
        "id": "lDIfuCUJJN6h"
      },
      "source": [
        "test_sent_pred = model.predict(test_sent)"
      ],
      "execution_count": null,
      "outputs": []
    },
    {
      "cell_type": "code",
      "metadata": {
        "colab": {
          "base_uri": "https://localhost:8080/"
        },
        "id": "gUEym309Jyhj",
        "outputId": "9f462e20-0830-4425-801e-de92591c31ef"
      },
      "source": [
        "# Output -----\n",
        "print(rev_dictionary[np.argmax(test_sent_pred)])"
      ],
      "execution_count": null,
      "outputs": [
        {
          "output_type": "stream",
          "text": [
            "/business/person/company\n"
          ],
          "name": "stdout"
        }
      ]
    },
    {
      "cell_type": "code",
      "metadata": {
        "id": "zRXMLELOJ8n4"
      },
      "source": [
        "model.save('Prediction_model.h5')"
      ],
      "execution_count": null,
      "outputs": []
    }
  ]
}