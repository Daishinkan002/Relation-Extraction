{
  "cells": [
    {
      "cell_type": "code",
      "execution_count": 1,
      "metadata": {
        "id": "30_EgaSf4UDa"
      },
      "outputs": [
        {
          "name": "stderr",
          "output_type": "stream",
          "text": [
            "2022-01-07 22:28:14.239935: W tensorflow/stream_executor/platform/default/dso_loader.cc:64] Could not load dynamic library 'libcudart.so.11.0'; dlerror: libcudart.so.11.0: cannot open shared object file: No such file or directory\n",
            "2022-01-07 22:28:14.239975: I tensorflow/stream_executor/cuda/cudart_stub.cc:29] Ignore above cudart dlerror if you do not have a GPU set up on your machine.\n"
          ]
        }
      ],
      "source": [
        "import pandas as pd\n",
        "import numpy as np\n",
        "import matplotlib.pyplot as plt\n",
        "from keras.preprocessing.text import Tokenizer\n",
        "from keras.preprocessing.sequence import pad_sequences\n",
        "from sklearn.model_selection import train_test_split\n",
        "from tensorflow.keras import utils as np_utils\n",
        "from tqdm import tqdm\n",
        "import re"
      ]
    },
    {
      "cell_type": "code",
      "execution_count": 2,
      "metadata": {
        "id": "0FJETdsk4adu"
      },
      "outputs": [],
      "source": [
        "train_df = pd.read_json('../Dataset/raw_nyt/raw_train.json', lines = True)"
      ]
    },
    {
      "cell_type": "code",
      "execution_count": 3,
      "metadata": {
        "colab": {
          "base_uri": "https://localhost:8080/"
        },
        "id": "uMtiqfBT4jza",
        "outputId": "1450c293-d7ed-4b72-c7a8-16f2fadc3796"
      },
      "outputs": [
        {
          "name": "stdout",
          "output_type": "stream",
          "text": [
            "Index(['sentText', 'articleId', 'relationMentions', 'entityMentions',\n",
            "       'sentId'],\n",
            "      dtype='object')\n"
          ]
        }
      ],
      "source": [
        "print(train_df.columns)"
      ]
    },
    {
      "cell_type": "code",
      "execution_count": 4,
      "metadata": {
        "colab": {
          "base_uri": "https://localhost:8080/",
          "height": 293
        },
        "id": "eNodE-ay4tOQ",
        "outputId": "8b02f439-6847-4166-9262-c91f8b5c5d56"
      },
      "outputs": [
        {
          "data": {
            "text/html": [
              "<div>\n",
              "<style scoped>\n",
              "    .dataframe tbody tr th:only-of-type {\n",
              "        vertical-align: middle;\n",
              "    }\n",
              "\n",
              "    .dataframe tbody tr th {\n",
              "        vertical-align: top;\n",
              "    }\n",
              "\n",
              "    .dataframe thead th {\n",
              "        text-align: right;\n",
              "    }\n",
              "</style>\n",
              "<table border=\"1\" class=\"dataframe\">\n",
              "  <thead>\n",
              "    <tr style=\"text-align: right;\">\n",
              "      <th></th>\n",
              "      <th>sentText</th>\n",
              "      <th>articleId</th>\n",
              "      <th>relationMentions</th>\n",
              "      <th>entityMentions</th>\n",
              "      <th>sentId</th>\n",
              "    </tr>\n",
              "  </thead>\n",
              "  <tbody>\n",
              "    <tr>\n",
              "      <th>0</th>\n",
              "      <td>Massachusetts ASTON MAGNA Great Barrington ; a...</td>\n",
              "      <td>/m/vinci8/data1/riedel/projects/relation/kb/ny...</td>\n",
              "      <td>[{'em1Text': 'Annandale-on-Hudson', 'em2Text':...</td>\n",
              "      <td>[{'start': 1, 'label': 'ORGANIZATION', 'text':...</td>\n",
              "      <td>1</td>\n",
              "    </tr>\n",
              "    <tr>\n",
              "      <th>1</th>\n",
              "      <td>North Carolina EASTERN MUSIC FESTIVAL Greensbo...</td>\n",
              "      <td>/m/vinci8/data1/riedel/projects/relation/kb/ny...</td>\n",
              "      <td>[{'em1Text': 'North Carolina', 'em2Text': 'Gre...</td>\n",
              "      <td>[{'start': 0, 'label': 'LOCATION', 'text': 'No...</td>\n",
              "      <td>2</td>\n",
              "    </tr>\n",
              "    <tr>\n",
              "      <th>2</th>\n",
              "      <td>It will be the final movie credited to Debra H...</td>\n",
              "      <td>/m/vinci8/data1/riedel/projects/relation/kb/ny...</td>\n",
              "      <td>[{'em1Text': 'Debra Hill', 'em2Text': 'Haddonf...</td>\n",
              "      <td>[{'start': 0, 'label': 'LOCATION', 'text': 'De...</td>\n",
              "      <td>1</td>\n",
              "    </tr>\n",
              "    <tr>\n",
              "      <th>3</th>\n",
              "      <td>In a 3-0 victory over the Crew on Saturday in ...</td>\n",
              "      <td>/m/vinci8/data1/riedel/projects/relation/kb/ny...</td>\n",
              "      <td>[{'em1Text': 'Ohio', 'em2Text': 'Columbus', 'l...</td>\n",
              "      <td>[{'start': 0, 'label': 'LOCATION', 'text': 'Co...</td>\n",
              "      <td>1</td>\n",
              "    </tr>\n",
              "    <tr>\n",
              "      <th>4</th>\n",
              "      <td>The United States ambassador to Mexico , Tony ...</td>\n",
              "      <td>/m/vinci8/data1/riedel/projects/relation/kb/ny...</td>\n",
              "      <td>[{'em1Text': 'Mexico', 'em2Text': 'Nuevo Lared...</td>\n",
              "      <td>[{'start': 0, 'label': 'LOCATION', 'text': 'Un...</td>\n",
              "      <td>1</td>\n",
              "    </tr>\n",
              "  </tbody>\n",
              "</table>\n",
              "</div>"
            ],
            "text/plain": [
              "                                            sentText  \\\n",
              "0  Massachusetts ASTON MAGNA Great Barrington ; a...   \n",
              "1  North Carolina EASTERN MUSIC FESTIVAL Greensbo...   \n",
              "2  It will be the final movie credited to Debra H...   \n",
              "3  In a 3-0 victory over the Crew on Saturday in ...   \n",
              "4  The United States ambassador to Mexico , Tony ...   \n",
              "\n",
              "                                           articleId  \\\n",
              "0  /m/vinci8/data1/riedel/projects/relation/kb/ny...   \n",
              "1  /m/vinci8/data1/riedel/projects/relation/kb/ny...   \n",
              "2  /m/vinci8/data1/riedel/projects/relation/kb/ny...   \n",
              "3  /m/vinci8/data1/riedel/projects/relation/kb/ny...   \n",
              "4  /m/vinci8/data1/riedel/projects/relation/kb/ny...   \n",
              "\n",
              "                                    relationMentions  \\\n",
              "0  [{'em1Text': 'Annandale-on-Hudson', 'em2Text':...   \n",
              "1  [{'em1Text': 'North Carolina', 'em2Text': 'Gre...   \n",
              "2  [{'em1Text': 'Debra Hill', 'em2Text': 'Haddonf...   \n",
              "3  [{'em1Text': 'Ohio', 'em2Text': 'Columbus', 'l...   \n",
              "4  [{'em1Text': 'Mexico', 'em2Text': 'Nuevo Lared...   \n",
              "\n",
              "                                      entityMentions  sentId  \n",
              "0  [{'start': 1, 'label': 'ORGANIZATION', 'text':...       1  \n",
              "1  [{'start': 0, 'label': 'LOCATION', 'text': 'No...       2  \n",
              "2  [{'start': 0, 'label': 'LOCATION', 'text': 'De...       1  \n",
              "3  [{'start': 0, 'label': 'LOCATION', 'text': 'Co...       1  \n",
              "4  [{'start': 0, 'label': 'LOCATION', 'text': 'Un...       1  "
            ]
          },
          "execution_count": 4,
          "metadata": {},
          "output_type": "execute_result"
        }
      ],
      "source": [
        "train_df.head()"
      ]
    },
    {
      "cell_type": "code",
      "execution_count": 5,
      "metadata": {
        "id": "H3dXrXAq47zE"
      },
      "outputs": [],
      "source": [
        "#rel_sets -> relation_sets\n",
        "relations = []\n",
        "for rel_sets in train_df['relationMentions']:\n",
        "  relations.append(rel_sets[-1]['label'])\n",
        "train_df['relations'] = relations"
      ]
    },
    {
      "cell_type": "code",
      "execution_count": 6,
      "metadata": {
        "colab": {
          "base_uri": "https://localhost:8080/"
        },
        "id": "P01rS2Oz5vw9",
        "outputId": "1494c750-8287-48ac-d4a4-54fc997cbbaf"
      },
      "outputs": [
        {
          "data": {
            "text/plain": [
              "{'/business/company/advisors',\n",
              " '/business/company/founders',\n",
              " '/business/company/industry',\n",
              " '/business/company/major_shareholders',\n",
              " '/business/company/place_founded',\n",
              " '/business/company_shareholder/major_shareholder_of',\n",
              " '/business/person/company',\n",
              " '/location/administrative_division/country',\n",
              " '/location/country/administrative_divisions',\n",
              " '/location/country/capital',\n",
              " '/location/location/contains',\n",
              " '/location/neighborhood/neighborhood_of',\n",
              " '/people/deceased_person/place_of_death',\n",
              " '/people/ethnicity/geographic_distribution',\n",
              " '/people/ethnicity/people',\n",
              " '/people/person/children',\n",
              " '/people/person/ethnicity',\n",
              " '/people/person/nationality',\n",
              " '/people/person/place_lived',\n",
              " '/people/person/place_of_birth',\n",
              " '/people/person/profession',\n",
              " '/people/person/religion',\n",
              " '/sports/sports_team/location',\n",
              " '/sports/sports_team_location/teams'}"
            ]
          },
          "execution_count": 6,
          "metadata": {},
          "output_type": "execute_result"
        }
      ],
      "source": [
        "set(train_df['relations'])"
      ]
    },
    {
      "cell_type": "code",
      "execution_count": 7,
      "metadata": {
        "colab": {
          "base_uri": "https://localhost:8080/"
        },
        "id": "JrL7cLOC52_-",
        "outputId": "c618e334-bc00-453d-da1c-f0218bdb83b9"
      },
      "outputs": [
        {
          "data": {
            "image/png": "[encoded data removed]",
            "text/plain": [
              "<Figure size 1080x720 with 1 Axes>"
            ]
          },
          "metadata": {},
          "output_type": "display_data"
        }
      ],
      "source": [
        "plt.style.use('dark_background')\n",
        "# x, y = train_df['relations'].value_counts()\n",
        "train_df['relations'].value_counts().plot.barh(title='Relation Counts', logx = True, figsize=(15,10))\n",
        "plt.xlabel('Frequencies', fontsize=18)\n",
        "plt.ylabel('Relations', fontsize=18)\n",
        "plt.savefig('../Images/relationFrequencies.png')"
      ]
    },
    {
      "cell_type": "code",
      "execution_count": 8,
      "metadata": {
        "colab": {
          "base_uri": "https://localhost:8080/"
        },
        "id": "94dxDVLE6Ann",
        "outputId": "332a1d51-33aa-4137-822d-e6405384f380"
      },
      "outputs": [
        {
          "data": {
            "text/plain": [
              "0    Massachusetts ASTON MAGNA Great Barrington ; a...\n",
              "1    North Carolina EASTERN MUSIC FESTIVAL Greensbo...\n",
              "2    It will be the final movie credited to Debra H...\n",
              "3    In a 3-0 victory over the Crew on Saturday in ...\n",
              "4    The United States ambassador to Mexico , Tony ...\n",
              "Name: sentText, dtype: object"
            ]
          },
          "execution_count": 8,
          "metadata": {},
          "output_type": "execute_result"
        }
      ],
      "source": [
        "train_df['sentText'].head()"
      ]
    },
    {
      "cell_type": "code",
      "execution_count": 9,
      "metadata": {
        "id": "HZo5BYO96Sxc"
      },
      "outputs": [],
      "source": [
        "X = []\n",
        "for data in train_df['sentText']:\n",
        "  X.append(data.lower())"
      ]
    },
    {
      "cell_type": "code",
      "execution_count": 12,
      "metadata": {
        "colab": {
          "base_uri": "https://localhost:8080/"
        },
        "id": "7Nuae3Hm6vwY",
        "outputId": "1cdb62a4-eb5f-4dab-d556-0d9c0a42a763"
      },
      "outputs": [
        {
          "name": "stdout",
          "output_type": "stream",
          "text": [
            "massachusetts aston magna great barrington ; also at bard college , annandale-on-hudson , n.y. , july 1-aug .\n",
            "\n",
            "north carolina eastern music festival greensboro , june 25-july 30 .\n",
            "\n",
            "it will be the final movie credited to debra hill , a film producer and native of haddonfield , who produced '' halloween '' and was considered a pioneering woman in film .\n",
            "\n",
            "in a 3-0 victory over the crew on saturday in columbus , ohio , goalkeeper zach wells stopped kyle martino 's penalty kick , only the third unsuccessful penalty in 20 attempts in m.l.s. this season .\n",
            "\n",
            "the united states ambassador to mexico , tony garza , said in a statement that he had directed the american consulate in nuevo laredo to reopen on monday , a week after he ordered it closed because of '' rampant violence '' along the northern border , including a gun battle in the city in which warring drug gangs used bazookas .\n",
            "\n"
          ]
        }
      ],
      "source": [
        "for i in range(5):\n",
        "    print(X[i], end=\"\\n\\n\")"
      ]
    },
    {
      "cell_type": "code",
      "execution_count": 13,
      "metadata": {
        "id": "n4T1_hGQ7BYL"
      },
      "outputs": [],
      "source": [
        "def find_max_len(x, max_len):\n",
        "  if(max_len < len(x.split())):\n",
        "    max_len = len(x.split())\n",
        "  return max_len"
      ]
    },
    {
      "cell_type": "code",
      "execution_count": 14,
      "metadata": {
        "colab": {
          "base_uri": "https://localhost:8080/"
        },
        "id": "pE26byC26xE5",
        "outputId": "42537beb-e660-4d8a-d154-82a81a583d9a"
      },
      "outputs": [
        {
          "name": "stdout",
          "output_type": "stream",
          "text": [
            "Max Length =  100\n"
          ]
        }
      ],
      "source": [
        "max_len = 0\n",
        "for x in train_df['sentText']:\n",
        "  max_len = find_max_len(x, max_len)\n",
        "print(\"Max Length = \", max_len)"
      ]
    },
    {
      "cell_type": "code",
      "execution_count": 15,
      "metadata": {
        "colab": {
          "base_uri": "https://localhost:8080/"
        },
        "id": "yCL2zoj469f4",
        "outputId": "40bc5cb7-781c-4bef-9e53-4015a0ecac8c"
      },
      "outputs": [
        {
          "name": "stdout",
          "output_type": "stream",
          "text": [
            "Found 64188 unique tokens.\n"
          ]
        }
      ],
      "source": [
        "n_most_common_words = 65000 # vocabulary size\n",
        "max_len = 100 # Max Length of Sequence\n",
        "tokenizer = Tokenizer(num_words=n_most_common_words, filters='!\"#$%&()*+,-./:;=?@[]^_`{|}~', lower=True)\n",
        "tokenizer.fit_on_texts(train_df['sentText'].values)\n",
        "sequences = tokenizer.texts_to_sequences(train_df['sentText'].values)\n",
        "word_index = tokenizer.word_index\n",
        "print('Found %s unique tokens.' % len(word_index))\n",
        "X = pad_sequences(sequences, maxlen=max_len) "
      ]
    },
    {
      "cell_type": "code",
      "execution_count": 16,
      "metadata": {
        "id": "uECocefQKIsI"
      },
      "outputs": [
        {
          "name": "stdout",
          "output_type": "stream",
          "text": [
            "[325, 10828, 9306, 348, 10829, 77, 12, 3733, 187, 4229, 11, 678, 107, 275, 406, 117, 1034]\n"
          ]
        }
      ],
      "source": [
        "print([i for i in sequences[0]])"
      ]
    },
    {
      "cell_type": "code",
      "execution_count": 17,
      "metadata": {
        "colab": {
          "base_uri": "https://localhost:8080/"
        },
        "id": "ONWuX8VL7X1U",
        "outputId": "cf374bd7-b95c-49da-e217-6a1e9d4e18e0"
      },
      "outputs": [
        {
          "name": "stdout",
          "output_type": "stream",
          "text": [
            "Found 24 relations\n"
          ]
        }
      ],
      "source": [
        "print(\"Found\", len(train_df.relations.unique()), \"relations\")"
      ]
    },
    {
      "cell_type": "code",
      "execution_count": 18,
      "metadata": {
        "id": "6nOQ3X5E7m0m"
      },
      "outputs": [],
      "source": [
        "dictionary = {}\n",
        "rev_dictionary = {}\n",
        "for i, rel in enumerate(train_df.relations.unique()):\n",
        "  #map relation to index\n",
        "  dictionary[rel] = i\n",
        "  #map index to relation\n",
        "  rev_dictionary[i] = rel"
      ]
    },
    {
      "cell_type": "code",
      "execution_count": 19,
      "metadata": {
        "colab": {
          "base_uri": "https://localhost:8080/"
        },
        "id": "VZOnydCg78vq",
        "outputId": "09da1ece-960d-4087-b62b-6b17f55061f9"
      },
      "outputs": [
        {
          "name": "stdout",
          "output_type": "stream",
          "text": [
            "Length of Relations =  24\n",
            "0   ----->    /location/location/contains\n",
            "1   ----->    /people/person/place_of_birth\n",
            "2   ----->    /business/person/company\n",
            "3   ----->    /people/person/place_lived\n",
            "4   ----->    /location/country/administrative_divisions\n",
            "5   ----->    /people/person/religion\n",
            "6   ----->    /people/person/nationality\n",
            "7   ----->    /people/person/children\n",
            "8   ----->    /location/country/capital\n",
            "9   ----->    /business/company/founders\n",
            "10   ----->    /location/administrative_division/country\n",
            "11   ----->    /location/neighborhood/neighborhood_of\n",
            "12   ----->    /people/deceased_person/place_of_death\n",
            "13   ----->    /business/company/place_founded\n",
            "14   ----->    /business/company/advisors\n",
            "15   ----->    /people/ethnicity/geographic_distribution\n",
            "16   ----->    /sports/sports_team/location\n",
            "17   ----->    /sports/sports_team_location/teams\n",
            "18   ----->    /business/company/major_shareholders\n",
            "19   ----->    /business/company_shareholder/major_shareholder_of\n",
            "20   ----->    /people/ethnicity/people\n",
            "21   ----->    /people/person/ethnicity\n",
            "22   ----->    /people/person/profession\n",
            "23   ----->    /business/company/industry\n"
          ]
        }
      ],
      "source": [
        "print(\"Length of Relations = \", len(dictionary))\n",
        "for key, values in dictionary.items():\n",
        "  print(values, \"  ----->   \", key)"
      ]
    },
    {
      "cell_type": "code",
      "execution_count": 20,
      "metadata": {
        "id": "C99aHTby7_mu"
      },
      "outputs": [],
      "source": [
        "# encoding relations -- (relations to numbers)\n",
        "\n",
        "encoded_relations = []\n",
        "for rel in train_df['relations']:\n",
        "  encoded_relations.append(dictionary[rel])\n",
        "train_df['encoded_relations'] = encoded_relations"
      ]
    },
    {
      "cell_type": "code",
      "execution_count": 21,
      "metadata": {
        "colab": {
          "base_uri": "https://localhost:8080/",
          "height": 293
        },
        "id": "2rVD0hIH8nns",
        "outputId": "4512c6a3-15f6-4ec6-e46b-52c8a5f4be14"
      },
      "outputs": [
        {
          "data": {
            "text/html": [
              "<div>\n",
              "<style scoped>\n",
              "    .dataframe tbody tr th:only-of-type {\n",
              "        vertical-align: middle;\n",
              "    }\n",
              "\n",
              "    .dataframe tbody tr th {\n",
              "        vertical-align: top;\n",
              "    }\n",
              "\n",
              "    .dataframe thead th {\n",
              "        text-align: right;\n",
              "    }\n",
              "</style>\n",
              "<table border=\"1\" class=\"dataframe\">\n",
              "  <thead>\n",
              "    <tr style=\"text-align: right;\">\n",
              "      <th></th>\n",
              "      <th>sentText</th>\n",
              "      <th>articleId</th>\n",
              "      <th>relationMentions</th>\n",
              "      <th>entityMentions</th>\n",
              "      <th>sentId</th>\n",
              "      <th>relations</th>\n",
              "      <th>encoded_relations</th>\n",
              "    </tr>\n",
              "  </thead>\n",
              "  <tbody>\n",
              "    <tr>\n",
              "      <th>0</th>\n",
              "      <td>Massachusetts ASTON MAGNA Great Barrington ; a...</td>\n",
              "      <td>/m/vinci8/data1/riedel/projects/relation/kb/ny...</td>\n",
              "      <td>[{'em1Text': 'Annandale-on-Hudson', 'em2Text':...</td>\n",
              "      <td>[{'start': 1, 'label': 'ORGANIZATION', 'text':...</td>\n",
              "      <td>1</td>\n",
              "      <td>/location/location/contains</td>\n",
              "      <td>0</td>\n",
              "    </tr>\n",
              "    <tr>\n",
              "      <th>1</th>\n",
              "      <td>North Carolina EASTERN MUSIC FESTIVAL Greensbo...</td>\n",
              "      <td>/m/vinci8/data1/riedel/projects/relation/kb/ny...</td>\n",
              "      <td>[{'em1Text': 'North Carolina', 'em2Text': 'Gre...</td>\n",
              "      <td>[{'start': 0, 'label': 'LOCATION', 'text': 'No...</td>\n",
              "      <td>2</td>\n",
              "      <td>/location/location/contains</td>\n",
              "      <td>0</td>\n",
              "    </tr>\n",
              "    <tr>\n",
              "      <th>2</th>\n",
              "      <td>It will be the final movie credited to Debra H...</td>\n",
              "      <td>/m/vinci8/data1/riedel/projects/relation/kb/ny...</td>\n",
              "      <td>[{'em1Text': 'Debra Hill', 'em2Text': 'Haddonf...</td>\n",
              "      <td>[{'start': 0, 'label': 'LOCATION', 'text': 'De...</td>\n",
              "      <td>1</td>\n",
              "      <td>/people/person/place_of_birth</td>\n",
              "      <td>1</td>\n",
              "    </tr>\n",
              "    <tr>\n",
              "      <th>3</th>\n",
              "      <td>In a 3-0 victory over the Crew on Saturday in ...</td>\n",
              "      <td>/m/vinci8/data1/riedel/projects/relation/kb/ny...</td>\n",
              "      <td>[{'em1Text': 'Ohio', 'em2Text': 'Columbus', 'l...</td>\n",
              "      <td>[{'start': 0, 'label': 'LOCATION', 'text': 'Co...</td>\n",
              "      <td>1</td>\n",
              "      <td>/location/location/contains</td>\n",
              "      <td>0</td>\n",
              "    </tr>\n",
              "    <tr>\n",
              "      <th>4</th>\n",
              "      <td>The United States ambassador to Mexico , Tony ...</td>\n",
              "      <td>/m/vinci8/data1/riedel/projects/relation/kb/ny...</td>\n",
              "      <td>[{'em1Text': 'Mexico', 'em2Text': 'Nuevo Lared...</td>\n",
              "      <td>[{'start': 0, 'label': 'LOCATION', 'text': 'Un...</td>\n",
              "      <td>1</td>\n",
              "      <td>/location/location/contains</td>\n",
              "      <td>0</td>\n",
              "    </tr>\n",
              "  </tbody>\n",
              "</table>\n",
              "</div>"
            ],
            "text/plain": [
              "                                            sentText  \\\n",
              "0  Massachusetts ASTON MAGNA Great Barrington ; a...   \n",
              "1  North Carolina EASTERN MUSIC FESTIVAL Greensbo...   \n",
              "2  It will be the final movie credited to Debra H...   \n",
              "3  In a 3-0 victory over the Crew on Saturday in ...   \n",
              "4  The United States ambassador to Mexico , Tony ...   \n",
              "\n",
              "                                           articleId  \\\n",
              "0  /m/vinci8/data1/riedel/projects/relation/kb/ny...   \n",
              "1  /m/vinci8/data1/riedel/projects/relation/kb/ny...   \n",
              "2  /m/vinci8/data1/riedel/projects/relation/kb/ny...   \n",
              "3  /m/vinci8/data1/riedel/projects/relation/kb/ny...   \n",
              "4  /m/vinci8/data1/riedel/projects/relation/kb/ny...   \n",
              "\n",
              "                                    relationMentions  \\\n",
              "0  [{'em1Text': 'Annandale-on-Hudson', 'em2Text':...   \n",
              "1  [{'em1Text': 'North Carolina', 'em2Text': 'Gre...   \n",
              "2  [{'em1Text': 'Debra Hill', 'em2Text': 'Haddonf...   \n",
              "3  [{'em1Text': 'Ohio', 'em2Text': 'Columbus', 'l...   \n",
              "4  [{'em1Text': 'Mexico', 'em2Text': 'Nuevo Lared...   \n",
              "\n",
              "                                      entityMentions  sentId  \\\n",
              "0  [{'start': 1, 'label': 'ORGANIZATION', 'text':...       1   \n",
              "1  [{'start': 0, 'label': 'LOCATION', 'text': 'No...       2   \n",
              "2  [{'start': 0, 'label': 'LOCATION', 'text': 'De...       1   \n",
              "3  [{'start': 0, 'label': 'LOCATION', 'text': 'Co...       1   \n",
              "4  [{'start': 0, 'label': 'LOCATION', 'text': 'Un...       1   \n",
              "\n",
              "                       relations  encoded_relations  \n",
              "0    /location/location/contains                  0  \n",
              "1    /location/location/contains                  0  \n",
              "2  /people/person/place_of_birth                  1  \n",
              "3    /location/location/contains                  0  \n",
              "4    /location/location/contains                  0  "
            ]
          },
          "execution_count": 21,
          "metadata": {},
          "output_type": "execute_result"
        }
      ],
      "source": [
        "train_df.head()"
      ]
    },
    {
      "cell_type": "code",
      "execution_count": 22,
      "metadata": {
        "id": "6EgQO8l88qKg"
      },
      "outputs": [],
      "source": [
        "y = np_utils.to_categorical(train_df['encoded_relations'], num_classes=len(train_df.encoded_relations.unique()))\n",
        "X_train, X_test, y_train, y_test = train_test_split(X , y, test_size=0.20, random_state=42)"
      ]
    },
    {
      "cell_type": "code",
      "execution_count": 23,
      "metadata": {
        "id": "V52vOHaI8-f7"
      },
      "outputs": [],
      "source": [
        "from keras.models import Sequential\n",
        "from keras.layers import Embedding, LSTM, Dense, Bidirectional\n",
        "from sklearn.metrics import confusion_matrix, classification_report"
      ]
    },
    {
      "cell_type": "code",
      "execution_count": 24,
      "metadata": {
        "colab": {
          "base_uri": "https://localhost:8080/"
        },
        "id": "bU8RXSl49B7h",
        "outputId": "76eeb484-d8a6-49a0-c94e-4b629679c5a7"
      },
      "outputs": [
        {
          "name": "stderr",
          "output_type": "stream",
          "text": [
            "2022-01-07 22:29:50.379880: I tensorflow/stream_executor/cuda/cuda_gpu_executor.cc:937] successful NUMA node read from SysFS had negative value (-1), but there must be at least one NUMA node, so returning NUMA node zero\n",
            "2022-01-07 22:29:50.380853: W tensorflow/stream_executor/platform/default/dso_loader.cc:64] Could not load dynamic library 'libcudart.so.11.0'; dlerror: libcudart.so.11.0: cannot open shared object file: No such file or directory\n",
            "2022-01-07 22:29:50.381038: W tensorflow/stream_executor/platform/default/dso_loader.cc:64] Could not load dynamic library 'libcublas.so.11'; dlerror: libcublas.so.11: cannot open shared object file: No such file or directory\n",
            "2022-01-07 22:29:50.381168: W tensorflow/stream_executor/platform/default/dso_loader.cc:64] Could not load dynamic library 'libcublasLt.so.11'; dlerror: libcublasLt.so.11: cannot open shared object file: No such file or directory\n",
            "2022-01-07 22:29:50.381291: W tensorflow/stream_executor/platform/default/dso_loader.cc:64] Could not load dynamic library 'libcufft.so.10'; dlerror: libcufft.so.10: cannot open shared object file: No such file or directory\n",
            "2022-01-07 22:29:50.381409: W tensorflow/stream_executor/platform/default/dso_loader.cc:64] Could not load dynamic library 'libcurand.so.10'; dlerror: libcurand.so.10: cannot open shared object file: No such file or directory\n",
            "2022-01-07 22:29:50.381527: W tensorflow/stream_executor/platform/default/dso_loader.cc:64] Could not load dynamic library 'libcusolver.so.11'; dlerror: libcusolver.so.11: cannot open shared object file: No such file or directory\n",
            "2022-01-07 22:29:50.381646: W tensorflow/stream_executor/platform/default/dso_loader.cc:64] Could not load dynamic library 'libcusparse.so.11'; dlerror: libcusparse.so.11: cannot open shared object file: No such file or directory\n",
            "2022-01-07 22:29:50.381762: W tensorflow/stream_executor/platform/default/dso_loader.cc:64] Could not load dynamic library 'libcudnn.so.8'; dlerror: libcudnn.so.8: cannot open shared object file: No such file or directory\n",
            "2022-01-07 22:29:50.381781: W tensorflow/core/common_runtime/gpu/gpu_device.cc:1835] Cannot dlopen some GPU libraries. Please make sure the missing libraries mentioned above are installed properly if you would like to use GPU. Follow the guide at https://www.tensorflow.org/install/gpu for how to download and setup the required libraries for your platform.\n",
            "Skipping registering GPU devices...\n",
            "2022-01-07 22:29:50.382357: I tensorflow/core/platform/cpu_feature_guard.cc:142] This TensorFlow binary is optimized with oneAPI Deep Neural Network Library (oneDNN) to use the following CPU instructions in performance-critical operations:  AVX2 FMA\n",
            "To enable them in other operations, rebuild TensorFlow with the appropriate compiler flags.\n"
          ]
        },
        {
          "name": "stdout",
          "output_type": "stream",
          "text": [
            "Model: \"sequential\"\n",
            "_________________________________________________________________\n",
            "Layer (type)                 Output Shape              Param #   \n",
            "=================================================================\n",
            "embedding (Embedding)        (None, 100, 300)          19500000  \n",
            "_________________________________________________________________\n",
            "bidirectional (Bidirectional (None, 256)               439296    \n",
            "_________________________________________________________________\n",
            "dense (Dense)                (None, 24)                6168      \n",
            "=================================================================\n",
            "Total params: 19,945,464\n",
            "Trainable params: 19,945,464\n",
            "Non-trainable params: 0\n",
            "_________________________________________________________________\n",
            "None\n"
          ]
        }
      ],
      "source": [
        "embedding_size = 300\n",
        "model = Sequential()\n",
        "model.add(Embedding(n_most_common_words, embedding_size, input_length=X.shape[1]))\n",
        "model.add(Bidirectional(LSTM(128, dropout=0.7, recurrent_dropout=0.7)))\n",
        "model.add(Dense(y.shape[1], activation='softmax'))\n",
        "model.compile(optimizer='adam', loss='categorical_crossentropy', metrics=['acc'])\n",
        "print(model.summary())"
      ]
    },
    {
      "cell_type": "code",
      "execution_count": 25,
      "metadata": {
        "colab": {
          "base_uri": "https://localhost:8080/"
        },
        "id": "Be6Lr2OG9E-Q",
        "outputId": "1cff89bd-2d71-4df4-b428-188441291253"
      },
      "outputs": [
        {
          "name": "stderr",
          "output_type": "stream",
          "text": [
            "2022-01-07 22:30:17.818623: I tensorflow/compiler/mlir/mlir_graph_optimization_pass.cc:185] None of the MLIR Optimization Passes are enabled (registered 2)\n"
          ]
        },
        {
          "name": "stdout",
          "output_type": "stream",
          "text": [
            "Epoch 1/10\n",
            "281/281 [==============================] - 446s 2s/step - loss: 1.4935 - acc: 0.5899 - val_loss: 1.0993 - val_acc: 0.6774\n",
            "Epoch 2/10\n",
            "281/281 [==============================] - 436s 2s/step - loss: 0.9105 - acc: 0.7200 - val_loss: 0.9827 - val_acc: 0.7061\n",
            "Epoch 3/10\n",
            "281/281 [==============================] - 456s 2s/step - loss: 0.6553 - acc: 0.7805 - val_loss: 0.9565 - val_acc: 0.7048\n",
            "Epoch 4/10\n",
            "281/281 [==============================] - 403s 1s/step - loss: 0.4956 - acc: 0.8268 - val_loss: 0.9990 - val_acc: 0.7016\n",
            "Epoch 5/10\n",
            "281/281 [==============================] - 391s 1s/step - loss: 0.3854 - acc: 0.8649 - val_loss: 1.0984 - val_acc: 0.7028\n",
            "Epoch 6/10\n",
            "281/281 [==============================] - 390s 1s/step - loss: 0.3025 - acc: 0.8923 - val_loss: 1.1532 - val_acc: 0.7002\n",
            "Epoch 7/10\n",
            "281/281 [==============================] - 391s 1s/step - loss: 0.2382 - acc: 0.9154 - val_loss: 1.1769 - val_acc: 0.7062\n",
            "Epoch 8/10\n",
            "281/281 [==============================] - 390s 1s/step - loss: 0.1928 - acc: 0.9318 - val_loss: 1.2287 - val_acc: 0.7030\n",
            "Epoch 9/10\n",
            "281/281 [==============================] - 391s 1s/step - loss: 0.1543 - acc: 0.9451 - val_loss: 1.4079 - val_acc: 0.7080\n",
            "Epoch 10/10\n",
            "281/281 [==============================] - 395s 1s/step - loss: 0.1261 - acc: 0.9560 - val_loss: 1.4483 - val_acc: 0.7092\n"
          ]
        },
        {
          "data": {
            "text/plain": [
              "<keras.callbacks.History at 0x7fa7c2e65ee0>"
            ]
          },
          "execution_count": 25,
          "metadata": {},
          "output_type": "execute_result"
        }
      ],
      "source": [
        "model.fit(X_train, y_train, epochs=10, batch_size=128, validation_split=0.2)"
      ]
    },
    {
      "cell_type": "code",
      "execution_count": 26,
      "metadata": {
        "colab": {
          "base_uri": "https://localhost:8080/"
        },
        "id": "m4pWILWQ9Kii",
        "outputId": "07ca74e9-cf51-4e26-daa9-b3461a908114"
      },
      "outputs": [
        {
          "name": "stdout",
          "output_type": "stream",
          "text": [
            "[6, 6, 4, 0, 0, 0, 0, 0, 11, 4]\n"
          ]
        }
      ],
      "source": [
        "prediction_probas = model.predict(X_test)\n",
        "predictions = [np.argmax(pred) for pred in prediction_probas]\n",
        "print(predictions[:10])"
      ]
    },
    {
      "cell_type": "code",
      "execution_count": 27,
      "metadata": {
        "id": "I9nV4gS0ICja"
      },
      "outputs": [],
      "source": [
        "y_test_dup=np.argmax(y_test, axis=1)"
      ]
    },
    {
      "cell_type": "code",
      "execution_count": 28,
      "metadata": {
        "id": "wzlDFQymIHdi"
      },
      "outputs": [
        {
          "name": "stdout",
          "output_type": "stream",
          "text": [
            "[[5152   35   56  122   98    0   93    0  110    0   63  257    9   10\n",
            "     0    0    3    0    0    1    0]\n",
            " [ 101   97    6   43    6    0   21    1    1    1    1    3   15    0\n",
            "     0    0    0    0    1    0    0]\n",
            " [  86    1  676   32    0    0   15    6    2   15    2    2    1    9\n",
            "     1    0    0    0    0    3    0]\n",
            " [ 207   29   18  701    5    0   16    1    7    1    2   17   10    0\n",
            "     0    0    0    0    0    0    0]\n",
            " [  96    0    1    0   80    0   11    0   12    0   48    0    1    0\n",
            "     0    0    0    0    0    0    0]\n",
            " [   5    1    0    1    0    1    2    0    0    0    0    0    0    0\n",
            "     0    0    0    0    0    0    0]\n",
            " [ 162   18   13    9   38    0  778    1    7    1    8    1   12    1\n",
            "     0    0    1    0    0    1    0]\n",
            " [   7    8    8   11    1    0    7   35    0    2    0    3    1    0\n",
            "     0    0    0    0    1    1    0]\n",
            " [ 289    3    2    1   31    0   17    0  141    0   16    1    2    1\n",
            "     0    0    0    0    0    0    0]\n",
            " [   5    1   45   11    0    0    0    1    0   20    0    0    0    0\n",
            "     0    0    0    0    0    0    0]\n",
            " [ 116    0    2    2   73    0   13    0   18    0   39    0    0    0\n",
            "     0    0    0    0    0    0    0]\n",
            " [ 261    2    1    3    0    0    0    0    0    1    0  209    0    0\n",
            "     0    0    0    0    0    0    0]\n",
            " [  50   25   10   17    3    0   25    4    1    0    3    1   41    1\n",
            "     0    0    0    1    1    0    0]\n",
            " [  40    0    8    1    1    0    1    0    0    0    1    0    1   25\n",
            "     0    0    0    0    0    0    0]\n",
            " [   0    0    4    0    0    0    0    0    0    0    0    0    0    0\n",
            "     0    0    0    0    1    2    0]\n",
            " [   1    1    1    0    1    0    0    0    1    0    0    0    0    0\n",
            "     0    0    0    0    0    0    0]\n",
            " [  10    0    0    3    0    0    0    0    0    0    0    1    0    1\n",
            "     0    0    3    0    0    0    0]\n",
            " [   7    3    0    0    0    0    0    0    0    0    0    0    0    0\n",
            "     0    0    4    0    0    0    0]\n",
            " [   3    0    5    0    0    0    0    0    0    1    1    0    0    0\n",
            "     0    0    0    0    4   11    0]\n",
            " [   1    0    5    0    0    0    0    1    0    0    1    0    0    0\n",
            "     0    0    0    0    2    4    0]\n",
            " [   0    0    0    0    0    0    0    0    0    0    1    0    0    2\n",
            "     0    0    0    0    0    0    0]]\n"
          ]
        }
      ],
      "source": [
        "print(confusion_matrix(y_test_dup, predictions))"
      ]
    },
    {
      "cell_type": "code",
      "execution_count": 29,
      "metadata": {
        "colab": {
          "base_uri": "https://localhost:8080/"
        },
        "id": "sWpArTNoIKYm",
        "outputId": "b717b6ab-9bc3-4fee-f965-c83a4f9529b9"
      },
      "outputs": [
        {
          "name": "stdout",
          "output_type": "stream",
          "text": [
            "              precision    recall  f1-score   support\n",
            "\n",
            "           0      0.781     0.857     0.817      6009\n",
            "           1      0.433     0.327     0.372       297\n",
            "           2      0.785     0.794     0.790       851\n",
            "           3      0.732     0.691     0.711      1014\n",
            "           4      0.237     0.321     0.273       249\n",
            "           5      1.000     0.100     0.182        10\n",
            "           6      0.779     0.740     0.759      1051\n",
            "           7      0.700     0.412     0.519        85\n",
            "           8      0.470     0.280     0.351       504\n",
            "           9      0.476     0.241     0.320        83\n",
            "          10      0.210     0.148     0.174       263\n",
            "          11      0.422     0.438     0.430       477\n",
            "          12      0.441     0.224     0.297       183\n",
            "          13      0.500     0.321     0.391        78\n",
            "          14      0.000     0.000     0.000         7\n",
            "          15      0.000     0.000     0.000         5\n",
            "          16      0.273     0.167     0.207        18\n",
            "          17      0.000     0.000     0.000        14\n",
            "          18      0.400     0.160     0.229        25\n",
            "          19      0.174     0.286     0.216        14\n",
            "          21      0.000     0.000     0.000         3\n",
            "\n",
            "    accuracy                          0.712     11240\n",
            "   macro avg      0.420     0.310     0.335     11240\n",
            "weighted avg      0.698     0.712     0.701     11240\n",
            "\n"
          ]
        },
        {
          "name": "stderr",
          "output_type": "stream",
          "text": [
            "/home/daishinkan/.local/lib/python3.9/site-packages/sklearn/metrics/_classification.py:1221: UndefinedMetricWarning: Precision and F-score are ill-defined and being set to 0.0 in labels with no predicted samples. Use `zero_division` parameter to control this behavior.\n",
            "  _warn_prf(average, modifier, msg_start, len(result))\n"
          ]
        }
      ],
      "source": [
        "print(classification_report(y_test_dup, predictions, digits=3))"
      ]
    },
    {
      "cell_type": "code",
      "execution_count": 30,
      "metadata": {
        "id": "exiI0t1rIT6O"
      },
      "outputs": [],
      "source": [
        "# Testing ------\n",
        "seq = tokenizer.texts_to_sequences(['Steve Jobs Founded Apple'])"
      ]
    },
    {
      "cell_type": "code",
      "execution_count": 31,
      "metadata": {
        "id": "A-XDWUSVI-uT"
      },
      "outputs": [],
      "source": [
        "test_sent = pad_sequences(seq, max_len)"
      ]
    },
    {
      "cell_type": "code",
      "execution_count": 32,
      "metadata": {
        "id": "lDIfuCUJJN6h"
      },
      "outputs": [],
      "source": [
        "test_sent_pred = model.predict(test_sent)"
      ]
    },
    {
      "cell_type": "code",
      "execution_count": 35,
      "metadata": {
        "colab": {
          "base_uri": "https://localhost:8080/"
        },
        "id": "gUEym309Jyhj",
        "outputId": "9f462e20-0830-4425-801e-de92591c31ef"
      },
      "outputs": [
        {
          "name": "stdout",
          "output_type": "stream",
          "text": [
            "/business/company/founders\n"
          ]
        }
      ],
      "source": [
        "# Output -----\n",
        "print(rev_dictionary[np.argmax(test_sent_pred)])"
      ]
    },
    {
      "cell_type": "code",
      "execution_count": 37,
      "metadata": {
        "id": "zRXMLELOJ8n4"
      },
      "outputs": [],
      "source": [
        "model.save('../models_file/tensorflow_bidirectional_model.h5')"
      ]
    },
    {
      "cell_type": "code",
      "execution_count": 38,
      "metadata": {},
      "outputs": [],
      "source": [
        "# Read Write File\n",
        "\n",
        "\n",
        "def write_modelsfile(dictionary):\n",
        "    '''\n",
        "    write dictionary to models_list file in models directory\n",
        "    '''\n",
        "    dict_file = open(\"models_list\", \"wb\")\n",
        "    pickle.dump(dictionary, dict_file)  \n",
        "    f.close()\n",
        "\n",
        "\n",
        "def read_modelsfile():\n",
        "    '''\n",
        "    returns dictionary containing the links of models\n",
        "    '''\n",
        "    L = None\n",
        "    f = open(\"models_list\", 'rb')\n",
        "    \n",
        "    while True:\n",
        "        try:\n",
        "            L = pickle.load(f)  \n",
        "            break    \n",
        "        except EOFError:\n",
        "            print(\"Completed reading details\")\n",
        "    f.close()\n",
        "    return L"
      ]
    },
    {
      "cell_type": "code",
      "execution_count": null,
      "metadata": {},
      "outputs": [],
      "source": []
    }
  ],
  "metadata": {
    "accelerator": "GPU",
    "colab": {
      "name": "RE_Supervised.ipynb",
      "provenance": []
    },
    "interpreter": {
      "hash": "916dbcbb3f70747c44a77c7bcd40155683ae19c65e1c03b4aa3499c5328201f1"
    },
    "kernelspec": {
      "display_name": "Python 3.9.5 64-bit",
      "name": "python3"
    },
    "language_info": {
      "codemirror_mode": {
        "name": "ipython",
        "version": 3
      },
      "file_extension": ".py",
      "mimetype": "text/x-python",
      "name": "python",
      "nbconvert_exporter": "python",
      "pygments_lexer": "ipython3",
      "version": "3.9.7"
    }
  },
  "nbformat": 4,
  "nbformat_minor": 0
}
