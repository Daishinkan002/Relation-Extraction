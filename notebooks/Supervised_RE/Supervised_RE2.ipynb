{
  "nbformat": 4,
  "nbformat_minor": 0,
  "metadata": {
    "accelerator": "GPU",
    "colab": {
      "name": "Supervised_RE2.ipynb",
      "provenance": [],
      "collapsed_sections": [],
      "authorship_tag": "ABX9TyPDkFSbAY5FWqnRfMQ3oeCe",
      "include_colab_link": true
    },
    "kernelspec": {
      "display_name": "Python 3",
      "name": "python3"
    },
    "language_info": {
      "name": "python"
    }
  },
  "cells": [
    {
      "cell_type": "markdown",
      "metadata": {
        "id": "view-in-github",
        "colab_type": "text"
      },
      "source": [
        "<a href=\"https://colab.research.google.com/github/Daishinkan002/Relation-Extraction/blob/main/Supervised_RE/Supervised_RE2.ipynb\" target=\"_parent\"><img src=\"https://colab.research.google.com/assets/colab-badge.svg\" alt=\"Open In Colab\"/></a>"
      ]
    },
    {
      "cell_type": "code",
      "metadata": {
        "colab": {
          "base_uri": "https://localhost:8080/"
        },
        "id": "Dkb7VvJG4xHh",
        "outputId": "f8a8acbc-2547-4542-cd8f-6372e8290bfa"
      },
      "source": [
        "from google.colab import drive\n",
        "drive.mount('/content/gdrive')"
      ],
      "execution_count": 1,
      "outputs": [
        {
          "output_type": "stream",
          "text": [
            "Mounted at /content/gdrive\n"
          ],
          "name": "stdout"
        }
      ]
    },
    {
      "cell_type": "code",
      "metadata": {
        "colab": {
          "base_uri": "https://localhost:8080/"
        },
        "id": "dD5Z_flx43nV",
        "outputId": "ffa20495-8ee7-464c-e1a4-d2c9df097052"
      },
      "source": [
        "cd /content/gdrive/My\\ Drive/DATA/RE_NYT/"
      ],
      "execution_count": 2,
      "outputs": [
        {
          "output_type": "stream",
          "text": [
            "/content/gdrive/My Drive/DATA/RE_NYT\n"
          ],
          "name": "stdout"
        }
      ]
    },
    {
      "cell_type": "code",
      "metadata": {
        "id": "M7CrPmWD5tLF"
      },
      "source": [
        "import pandas as pd\n",
        "import numpy as np\n",
        "from tqdm import tqdm\n",
        "import re\n",
        "import torch\n",
        "from torch import nn\n",
        "from collections import Counter \n",
        "from sklearn.preprocessing import OneHotEncoder\n",
        "from torchvision import datasets, transforms\n",
        "import torch\n",
        "import torch.nn.functional as F \n",
        "from torch import optim \n",
        "from torch.utils.data import DataLoader, TensorDataset\n",
        "from torch.nn.utils.rnn import pad_sequence\n",
        "from torchtext.data.utils import get_tokenizer"
      ],
      "execution_count": 3,
      "outputs": []
    },
    {
      "cell_type": "code",
      "metadata": {
        "id": "LoNZzNHa5u-W"
      },
      "source": [
        "train_df = pd.read_json('raw_train.json', lines = True)\n",
        "test_df = pd.read_json('raw_test.json', lines = True)\n",
        "valid_df = pd.read_json('raw_valid.json', lines = True)"
      ],
      "execution_count": 4,
      "outputs": []
    },
    {
      "cell_type": "code",
      "metadata": {
        "colab": {
          "base_uri": "https://localhost:8080/",
          "height": 293
        },
        "id": "_pRJMCsZ5xIJ",
        "outputId": "7a04328c-f4f4-4554-f45b-26b0987acd84"
      },
      "source": [
        "train_df.head()"
      ],
      "execution_count": 5,
      "outputs": [
        {
          "output_type": "execute_result",
          "data": {
            "text/html": [
              "<div>\n",
              "<style scoped>\n",
              "    .dataframe tbody tr th:only-of-type {\n",
              "        vertical-align: middle;\n",
              "    }\n",
              "\n",
              "    .dataframe tbody tr th {\n",
              "        vertical-align: top;\n",
              "    }\n",
              "\n",
              "    .dataframe thead th {\n",
              "        text-align: right;\n",
              "    }\n",
              "</style>\n",
              "<table border=\"1\" class=\"dataframe\">\n",
              "  <thead>\n",
              "    <tr style=\"text-align: right;\">\n",
              "      <th></th>\n",
              "      <th>sentText</th>\n",
              "      <th>articleId</th>\n",
              "      <th>relationMentions</th>\n",
              "      <th>entityMentions</th>\n",
              "      <th>sentId</th>\n",
              "    </tr>\n",
              "  </thead>\n",
              "  <tbody>\n",
              "    <tr>\n",
              "      <th>0</th>\n",
              "      <td>Massachusetts ASTON MAGNA Great Barrington ; a...</td>\n",
              "      <td>/m/vinci8/data1/riedel/projects/relation/kb/ny...</td>\n",
              "      <td>[{'em1Text': 'Annandale-on-Hudson', 'em2Text':...</td>\n",
              "      <td>[{'start': 1, 'label': 'ORGANIZATION', 'text':...</td>\n",
              "      <td>1</td>\n",
              "    </tr>\n",
              "    <tr>\n",
              "      <th>1</th>\n",
              "      <td>North Carolina EASTERN MUSIC FESTIVAL Greensbo...</td>\n",
              "      <td>/m/vinci8/data1/riedel/projects/relation/kb/ny...</td>\n",
              "      <td>[{'em1Text': 'North Carolina', 'em2Text': 'Gre...</td>\n",
              "      <td>[{'start': 0, 'label': 'LOCATION', 'text': 'No...</td>\n",
              "      <td>2</td>\n",
              "    </tr>\n",
              "    <tr>\n",
              "      <th>2</th>\n",
              "      <td>It will be the final movie credited to Debra H...</td>\n",
              "      <td>/m/vinci8/data1/riedel/projects/relation/kb/ny...</td>\n",
              "      <td>[{'em1Text': 'Debra Hill', 'em2Text': 'Haddonf...</td>\n",
              "      <td>[{'start': 0, 'label': 'LOCATION', 'text': 'De...</td>\n",
              "      <td>1</td>\n",
              "    </tr>\n",
              "    <tr>\n",
              "      <th>3</th>\n",
              "      <td>In a 3-0 victory over the Crew on Saturday in ...</td>\n",
              "      <td>/m/vinci8/data1/riedel/projects/relation/kb/ny...</td>\n",
              "      <td>[{'em1Text': 'Ohio', 'em2Text': 'Columbus', 'l...</td>\n",
              "      <td>[{'start': 0, 'label': 'LOCATION', 'text': 'Co...</td>\n",
              "      <td>1</td>\n",
              "    </tr>\n",
              "    <tr>\n",
              "      <th>4</th>\n",
              "      <td>The United States ambassador to Mexico , Tony ...</td>\n",
              "      <td>/m/vinci8/data1/riedel/projects/relation/kb/ny...</td>\n",
              "      <td>[{'em1Text': 'Mexico', 'em2Text': 'Nuevo Lared...</td>\n",
              "      <td>[{'start': 0, 'label': 'LOCATION', 'text': 'Un...</td>\n",
              "      <td>1</td>\n",
              "    </tr>\n",
              "  </tbody>\n",
              "</table>\n",
              "</div>"
            ],
            "text/plain": [
              "                                            sentText  ... sentId\n",
              "0  Massachusetts ASTON MAGNA Great Barrington ; a...  ...      1\n",
              "1  North Carolina EASTERN MUSIC FESTIVAL Greensbo...  ...      2\n",
              "2  It will be the final movie credited to Debra H...  ...      1\n",
              "3  In a 3-0 victory over the Crew on Saturday in ...  ...      1\n",
              "4  The United States ambassador to Mexico , Tony ...  ...      1\n",
              "\n",
              "[5 rows x 5 columns]"
            ]
          },
          "metadata": {
            "tags": []
          },
          "execution_count": 5
        }
      ]
    },
    {
      "cell_type": "code",
      "metadata": {
        "id": "XBm8w5vB50rS"
      },
      "source": [
        "train_relations = [rel_sets[0]['label'] for rel_sets in train_df['relationMentions']]\n",
        "test_relations = [rel_sets[0]['label'] for rel_sets in test_df['relationMentions']]\n",
        "valid_relations = [rel_sets[0]['label'] for rel_sets in valid_df['relationMentions']]\n",
        "train_df['relations'] = train_relations\n",
        "test_df['relations'] = test_relations\n",
        "valid_df['relations'] = valid_relations"
      ],
      "execution_count": 6,
      "outputs": []
    },
    {
      "cell_type": "code",
      "metadata": {
        "colab": {
          "base_uri": "https://localhost:8080/"
        },
        "id": "MHMfjAjD521W",
        "outputId": "e6a8ca53-6339-44fd-89f4-7444704b5428"
      },
      "source": [
        "train_df['relations']"
      ],
      "execution_count": 7,
      "outputs": [
        {
          "output_type": "execute_result",
          "data": {
            "text/plain": [
              "0                   /location/location/contains\n",
              "1                   /location/location/contains\n",
              "2                 /people/person/place_of_birth\n",
              "3                   /location/location/contains\n",
              "4                   /location/location/contains\n",
              "                          ...                  \n",
              "56191               /location/location/contains\n",
              "56192                 /location/country/capital\n",
              "56193                  /business/person/company\n",
              "56194    /location/neighborhood/neighborhood_of\n",
              "56195    /location/neighborhood/neighborhood_of\n",
              "Name: relations, Length: 56196, dtype: object"
            ]
          },
          "metadata": {
            "tags": []
          },
          "execution_count": 7
        }
      ]
    },
    {
      "cell_type": "code",
      "metadata": {
        "id": "OfViHdri54sx"
      },
      "source": [
        "def get_label_dictionaries(df):\n",
        "  dictionary = {}\n",
        "  rev_dictionary = {}\n",
        "  for i, rel in enumerate(df.relations.unique()):\n",
        "    #map relation to index\n",
        "    dictionary[rel] = i\n",
        "    #map index to relation\n",
        "    rev_dictionary[i] = rel\n",
        "  return dictionary, rev_dictionary"
      ],
      "execution_count": 8,
      "outputs": []
    },
    {
      "cell_type": "code",
      "metadata": {
        "colab": {
          "base_uri": "https://localhost:8080/"
        },
        "id": "Im_8MuHy58xZ",
        "outputId": "ea68ee96-6e22-47e5-af1b-9d9ec784b6d3"
      },
      "source": [
        "dictionary, rev_dictionary = get_label_dictionaries(train_df)\n",
        "for key, value in dictionary.items():\n",
        "  print(value, \"<--\", key)"
      ],
      "execution_count": 9,
      "outputs": [
        {
          "output_type": "stream",
          "text": [
            "0 <-- /location/location/contains\n",
            "1 <-- /people/person/place_of_birth\n",
            "2 <-- /business/person/company\n",
            "3 <-- /people/person/place_lived\n",
            "4 <-- /location/administrative_division/country\n",
            "5 <-- /people/person/religion\n",
            "6 <-- /people/person/nationality\n",
            "7 <-- /people/person/children\n",
            "8 <-- /location/country/capital\n",
            "9 <-- /business/company/place_founded\n",
            "10 <-- /people/deceased_person/place_of_death\n",
            "11 <-- /location/country/administrative_divisions\n",
            "12 <-- /business/company/founders\n",
            "13 <-- /location/neighborhood/neighborhood_of\n",
            "14 <-- /business/company/advisors\n",
            "15 <-- /people/ethnicity/geographic_distribution\n",
            "16 <-- /sports/sports_team_location/teams\n",
            "17 <-- /sports/sports_team/location\n",
            "18 <-- /business/company_shareholder/major_shareholder_of\n",
            "19 <-- /business/company/major_shareholders\n",
            "20 <-- /people/person/ethnicity\n",
            "21 <-- /people/ethnicity/people\n",
            "22 <-- /people/person/profession\n",
            "23 <-- /business/company/industry\n"
          ],
          "name": "stdout"
        }
      ]
    },
    {
      "cell_type": "code",
      "metadata": {
        "id": "45V6Oudg5-ml"
      },
      "source": [
        "encoded_training_relations = [dictionary[rel] for rel in train_df['relations']]\n",
        "encoded_testing_relations = [dictionary[rel] for rel in test_df['relations']]\n",
        "encoded_valid_relations = [dictionary[rel] for rel in valid_df['relations']]\n",
        "train_df['encoded_relations'] = encoded_training_relations\n",
        "test_df['encoded_relations'] = encoded_testing_relations\n",
        "valid_df['encoded_relations'] = encoded_valid_relations"
      ],
      "execution_count": 10,
      "outputs": []
    },
    {
      "cell_type": "code",
      "metadata": {
        "id": "l8_9dfVr6BPK"
      },
      "source": [
        "def find_max_len(x, max_len):\n",
        "  if(max_len < len(x.split())):\n",
        "    max_len = len(x.split())\n",
        "  return max_len"
      ],
      "execution_count": 11,
      "outputs": []
    },
    {
      "cell_type": "code",
      "metadata": {
        "colab": {
          "base_uri": "https://localhost:8080/"
        },
        "id": "yT14Lwip6DBa",
        "outputId": "1e6188b7-5d9e-43cb-8ee4-14b9bd23d5ff"
      },
      "source": [
        "max_len = 0\n",
        "for x in train_df['sentText']:\n",
        "  max_len = find_max_len(x, max_len)\n",
        "print(\"Max Length of Sentence in DF = \", max_len)"
      ],
      "execution_count": 12,
      "outputs": [
        {
          "output_type": "stream",
          "text": [
            "Max Length of Sentence in DF =  100\n"
          ],
          "name": "stdout"
        }
      ]
    },
    {
      "cell_type": "code",
      "metadata": {
        "colab": {
          "base_uri": "https://localhost:8080/"
        },
        "id": "SJOuN2uC6Ewz",
        "outputId": "bc1ce9ac-7df1-44da-8dc4-d0d7014732ad"
      },
      "source": [
        "print(\"Number of Unique Relations in Training_Data= \", len(train_df.relations.unique()))"
      ],
      "execution_count": 13,
      "outputs": [
        {
          "output_type": "stream",
          "text": [
            "Number of Unique Relations in Training_Data=  24\n"
          ],
          "name": "stdout"
        }
      ]
    },
    {
      "cell_type": "code",
      "metadata": {
        "colab": {
          "base_uri": "https://localhost:8080/"
        },
        "id": "Eqe7Rce66GuX",
        "outputId": "451b9b25-c3c4-4304-f575-1c004e51eec2"
      },
      "source": [
        "device = torch.device('cuda' if torch.cuda.is_available() else 'cpu')\n",
        "device"
      ],
      "execution_count": 14,
      "outputs": [
        {
          "output_type": "execute_result",
          "data": {
            "text/plain": [
              "device(type='cuda')"
            ]
          },
          "metadata": {
            "tags": []
          },
          "execution_count": 14
        }
      ]
    },
    {
      "cell_type": "code",
      "metadata": {
        "id": "PoyDzZYE6JUx"
      },
      "source": [
        "sequence_length = 100\n",
        "input_size = 28\n",
        "hidden_size = 128\n",
        "num_layers = 2\n",
        "num_classes = 24\n",
        "batch_size = 64\n",
        "num_epochs = 10\n",
        "learning_rate = 0.01"
      ],
      "execution_count": 15,
      "outputs": []
    },
    {
      "cell_type": "code",
      "metadata": {
        "id": "qtGDYHqp6LP1"
      },
      "source": [
        "training_data = [sentence.lower().split() for sentence in train_df['sentText']]\n",
        "testing_data = [sentence.lower().split() for sentence in test_df['sentText']]\n",
        "valid_data = [sentence.lower().split() for sentence in valid_df['sentText']]\n",
        "y_train = [label for label in train_df['encoded_relations']]\n",
        "y_test = [label for label in test_df['encoded_relations']]\n",
        "y_valid = [label for label in valid_df['encoded_relations']]"
      ],
      "execution_count": 16,
      "outputs": []
    },
    {
      "cell_type": "code",
      "metadata": {
        "id": "-kZRwOx_6NiD"
      },
      "source": [
        "onehot_encoder = OneHotEncoder(sparse=False)\n",
        "reshaped_y_train = np.array(y_train).reshape(len(y_train), 1)\n",
        "y_train_encoded = onehot_encoder.fit_transform(reshaped_y_train)\n",
        "reshaped_y_test = np.array(y_test).reshape(len(y_test), 1)\n",
        "y_test_encoded = onehot_encoder.fit_transform(reshaped_y_test)\n",
        "reshaped_y_valid = np.array(y_valid).reshape(len(y_valid), 1)\n",
        "y_valid_encoded = onehot_encoder.fit_transform(reshaped_y_valid)"
      ],
      "execution_count": 17,
      "outputs": []
    },
    {
      "cell_type": "code",
      "metadata": {
        "colab": {
          "base_uri": "https://localhost:8080/"
        },
        "id": "xNjPJkMs6PMq",
        "outputId": "d5032bfe-5f3f-4cfd-eb39-c0e9dbee1886"
      },
      "source": [
        "dictionary"
      ],
      "execution_count": 18,
      "outputs": [
        {
          "output_type": "execute_result",
          "data": {
            "text/plain": [
              "{'/business/company/advisors': 14,\n",
              " '/business/company/founders': 12,\n",
              " '/business/company/industry': 23,\n",
              " '/business/company/major_shareholders': 19,\n",
              " '/business/company/place_founded': 9,\n",
              " '/business/company_shareholder/major_shareholder_of': 18,\n",
              " '/business/person/company': 2,\n",
              " '/location/administrative_division/country': 4,\n",
              " '/location/country/administrative_divisions': 11,\n",
              " '/location/country/capital': 8,\n",
              " '/location/location/contains': 0,\n",
              " '/location/neighborhood/neighborhood_of': 13,\n",
              " '/people/deceased_person/place_of_death': 10,\n",
              " '/people/ethnicity/geographic_distribution': 15,\n",
              " '/people/ethnicity/people': 21,\n",
              " '/people/person/children': 7,\n",
              " '/people/person/ethnicity': 20,\n",
              " '/people/person/nationality': 6,\n",
              " '/people/person/place_lived': 3,\n",
              " '/people/person/place_of_birth': 1,\n",
              " '/people/person/profession': 22,\n",
              " '/people/person/religion': 5,\n",
              " '/sports/sports_team/location': 17,\n",
              " '/sports/sports_team_location/teams': 16}"
            ]
          },
          "metadata": {
            "tags": []
          },
          "execution_count": 18
        }
      ]
    },
    {
      "cell_type": "code",
      "metadata": {
        "id": "-J4Qu-qUgJ3o"
      },
      "source": [
        "#Padding Encoded Doc\n",
        "dup_y_valid_encoded = np.zeros((y_valid_encoded.shape[0], num_classes))\n",
        "dup_y_valid_encoded[:y_valid_encoded.shape[0],:y_valid_encoded.shape[1]] = y_valid_encoded\n",
        "y_valid_encoded = dup_y_valid_encoded\n",
        "\n",
        "\n",
        "dup_y_test_encoded = np.zeros((y_test_encoded.shape[0], num_classes))\n",
        "dup_y_test_encoded[:y_test_encoded.shape[0],:y_test_encoded.shape[1]] = y_test_encoded\n",
        "y_test_encoded = dup_y_test_encoded"
      ],
      "execution_count": 19,
      "outputs": []
    },
    {
      "cell_type": "code",
      "metadata": {
        "colab": {
          "base_uri": "https://localhost:8080/"
        },
        "id": "DlLt2aXh6Qwo",
        "outputId": "0fb64e15-140a-43f2-88c8-403463ba7d62"
      },
      "source": [
        "print(y_train_encoded[:10])\n",
        "print(y_test_encoded[:10])\n",
        "print(y_valid_encoded[:10])"
      ],
      "execution_count": 20,
      "outputs": [
        {
          "output_type": "stream",
          "text": [
            "[[1. 0. 0. 0. 0. 0. 0. 0. 0. 0. 0. 0. 0. 0. 0. 0. 0. 0. 0. 0. 0. 0. 0. 0.]\n",
            " [1. 0. 0. 0. 0. 0. 0. 0. 0. 0. 0. 0. 0. 0. 0. 0. 0. 0. 0. 0. 0. 0. 0. 0.]\n",
            " [0. 1. 0. 0. 0. 0. 0. 0. 0. 0. 0. 0. 0. 0. 0. 0. 0. 0. 0. 0. 0. 0. 0. 0.]\n",
            " [1. 0. 0. 0. 0. 0. 0. 0. 0. 0. 0. 0. 0. 0. 0. 0. 0. 0. 0. 0. 0. 0. 0. 0.]\n",
            " [1. 0. 0. 0. 0. 0. 0. 0. 0. 0. 0. 0. 0. 0. 0. 0. 0. 0. 0. 0. 0. 0. 0. 0.]\n",
            " [0. 0. 1. 0. 0. 0. 0. 0. 0. 0. 0. 0. 0. 0. 0. 0. 0. 0. 0. 0. 0. 0. 0. 0.]\n",
            " [0. 0. 0. 1. 0. 0. 0. 0. 0. 0. 0. 0. 0. 0. 0. 0. 0. 0. 0. 0. 0. 0. 0. 0.]\n",
            " [0. 1. 0. 0. 0. 0. 0. 0. 0. 0. 0. 0. 0. 0. 0. 0. 0. 0. 0. 0. 0. 0. 0. 0.]\n",
            " [0. 0. 0. 1. 0. 0. 0. 0. 0. 0. 0. 0. 0. 0. 0. 0. 0. 0. 0. 0. 0. 0. 0. 0.]\n",
            " [0. 0. 0. 0. 1. 0. 0. 0. 0. 0. 0. 0. 0. 0. 0. 0. 0. 0. 0. 0. 0. 0. 0. 0.]]\n",
            "[[0. 0. 0. 0. 0. 0. 1. 0. 0. 0. 0. 0. 0. 0. 0. 0. 0. 0. 0. 0. 0. 0. 0. 0.]\n",
            " [0. 0. 0. 0. 0. 0. 0. 1. 0. 0. 0. 0. 0. 0. 0. 0. 0. 0. 0. 0. 0. 0. 0. 0.]\n",
            " [1. 0. 0. 0. 0. 0. 0. 0. 0. 0. 0. 0. 0. 0. 0. 0. 0. 0. 0. 0. 0. 0. 0. 0.]\n",
            " [0. 1. 0. 0. 0. 0. 0. 0. 0. 0. 0. 0. 0. 0. 0. 0. 0. 0. 0. 0. 0. 0. 0. 0.]\n",
            " [0. 0. 0. 0. 0. 0. 0. 0. 0. 0. 0. 1. 0. 0. 0. 0. 0. 0. 0. 0. 0. 0. 0. 0.]\n",
            " [1. 0. 0. 0. 0. 0. 0. 0. 0. 0. 0. 0. 0. 0. 0. 0. 0. 0. 0. 0. 0. 0. 0. 0.]\n",
            " [1. 0. 0. 0. 0. 0. 0. 0. 0. 0. 0. 0. 0. 0. 0. 0. 0. 0. 0. 0. 0. 0. 0. 0.]\n",
            " [0. 0. 1. 0. 0. 0. 0. 0. 0. 0. 0. 0. 0. 0. 0. 0. 0. 0. 0. 0. 0. 0. 0. 0.]\n",
            " [0. 0. 1. 0. 0. 0. 0. 0. 0. 0. 0. 0. 0. 0. 0. 0. 0. 0. 0. 0. 0. 0. 0. 0.]\n",
            " [1. 0. 0. 0. 0. 0. 0. 0. 0. 0. 0. 0. 0. 0. 0. 0. 0. 0. 0. 0. 0. 0. 0. 0.]]\n",
            "[[0. 0. 0. 0. 0. 0. 0. 0. 0. 0. 0. 0. 0. 1. 0. 0. 0. 0. 0. 0. 0. 0. 0. 0.]\n",
            " [1. 0. 0. 0. 0. 0. 0. 0. 0. 0. 0. 0. 0. 0. 0. 0. 0. 0. 0. 0. 0. 0. 0. 0.]\n",
            " [1. 0. 0. 0. 0. 0. 0. 0. 0. 0. 0. 0. 0. 0. 0. 0. 0. 0. 0. 0. 0. 0. 0. 0.]\n",
            " [0. 0. 0. 1. 0. 0. 0. 0. 0. 0. 0. 0. 0. 0. 0. 0. 0. 0. 0. 0. 0. 0. 0. 0.]\n",
            " [0. 0. 0. 0. 0. 0. 1. 0. 0. 0. 0. 0. 0. 0. 0. 0. 0. 0. 0. 0. 0. 0. 0. 0.]\n",
            " [1. 0. 0. 0. 0. 0. 0. 0. 0. 0. 0. 0. 0. 0. 0. 0. 0. 0. 0. 0. 0. 0. 0. 0.]\n",
            " [1. 0. 0. 0. 0. 0. 0. 0. 0. 0. 0. 0. 0. 0. 0. 0. 0. 0. 0. 0. 0. 0. 0. 0.]\n",
            " [1. 0. 0. 0. 0. 0. 0. 0. 0. 0. 0. 0. 0. 0. 0. 0. 0. 0. 0. 0. 0. 0. 0. 0.]\n",
            " [0. 0. 0. 0. 0. 0. 1. 0. 0. 0. 0. 0. 0. 0. 0. 0. 0. 0. 0. 0. 0. 0. 0. 0.]\n",
            " [0. 0. 0. 0. 0. 0. 0. 0. 1. 0. 0. 0. 0. 0. 0. 0. 0. 0. 0. 0. 0. 0. 0. 0.]]\n"
          ],
          "name": "stdout"
        }
      ]
    },
    {
      "cell_type": "code",
      "metadata": {
        "colab": {
          "base_uri": "https://localhost:8080/"
        },
        "id": "ly9Gb_Ht6UEb",
        "outputId": "9b575b27-284d-47e3-8a6e-5533a2732df8"
      },
      "source": [
        "all_words = [] # Contains all words in the vocabulary\n",
        "\n",
        "for i, sent in tqdm(enumerate(training_data)):\n",
        "  refined_sentence = []\n",
        "  for word in sent:\n",
        "      all_words.append(word)\n",
        "\n",
        "count_words = Counter(all_words)\n",
        "total_words=len(all_words)\n",
        "sorted_words=count_words.most_common(total_words)"
      ],
      "execution_count": 21,
      "outputs": [
        {
          "output_type": "stream",
          "text": [
            "56196it [00:00, 233615.98it/s]\n"
          ],
          "name": "stderr"
        }
      ]
    },
    {
      "cell_type": "code",
      "metadata": {
        "id": "dPQrCnh-6Xbo"
      },
      "source": [
        "vocab_dictionary ={w: i+1 for i,(w,c) in enumerate(sorted_words)} # Contains a mapper of words to integers of sentences"
      ],
      "execution_count": 22,
      "outputs": []
    },
    {
      "cell_type": "code",
      "metadata": {
        "id": "EtdUAtHV6ZNS"
      },
      "source": [
        "def get_encoded_doc(dataset, vocab_dictionary):\n",
        "  encoded_doc = []\n",
        "  for sentence in dataset:\n",
        "    encoded_sentence=[]\n",
        "    for word in sentence:\n",
        "      if word not in vocab_dictionary.keys():\n",
        "        encoded_sentence.append(0)\n",
        "      else:\n",
        "        encoded_sentence.append(vocab_dictionary[word])\n",
        "    encoded_doc.append(encoded_sentence)\n",
        "  return encoded_doc"
      ],
      "execution_count": 23,
      "outputs": []
    },
    {
      "cell_type": "code",
      "metadata": {
        "id": "Iv_sUVA96bSk"
      },
      "source": [
        "training_encoded_doc = get_encoded_doc(training_data, vocab_dictionary)\n",
        "testing_encoded_doc = get_encoded_doc(testing_data, vocab_dictionary)\n",
        "valid_encoded_doc = get_encoded_doc(valid_data, vocab_dictionary)"
      ],
      "execution_count": 24,
      "outputs": []
    },
    {
      "cell_type": "code",
      "metadata": {
        "id": "R_IyibtH6dF7"
      },
      "source": [
        "def perform_padding(encoded_doc, max_len):\n",
        "  for i, sent in enumerate(encoded_doc):\n",
        "    zeros = [0 for i in range(100-len(sent))]\n",
        "    if(len(zeros)):\n",
        "      encoded_doc[i] += zeros\n",
        "  return encoded_doc"
      ],
      "execution_count": 25,
      "outputs": []
    },
    {
      "cell_type": "code",
      "metadata": {
        "id": "jlfI4Kuy6fwP"
      },
      "source": [
        "X_train = perform_padding(training_encoded_doc, max_len)\n",
        "X_test = perform_padding(testing_encoded_doc, max_len)\n",
        "X_valid = perform_padding(valid_encoded_doc, max_len)"
      ],
      "execution_count": 26,
      "outputs": []
    },
    {
      "cell_type": "code",
      "metadata": {
        "id": "tE6yQyy96hsW"
      },
      "source": [
        "train_data=TensorDataset(torch.LongTensor(X_train), torch.FloatTensor(y_train_encoded))\n",
        "test_data=TensorDataset(torch.LongTensor(X_test), torch.FloatTensor(y_test_encoded))\n",
        "valid_data = TensorDataset(torch.LongTensor(X_valid), torch.FloatTensor(y_valid_encoded))"
      ],
      "execution_count": 27,
      "outputs": []
    },
    {
      "cell_type": "code",
      "metadata": {
        "id": "3Ff9q9sKn9Hn"
      },
      "source": [
        "batch_size = 128"
      ],
      "execution_count": 28,
      "outputs": []
    },
    {
      "cell_type": "code",
      "metadata": {
        "id": "9UsYHanH6j3D"
      },
      "source": [
        "train_loader=DataLoader(train_data, batch_size=batch_size, shuffle=True, drop_last = True)\n",
        "test_loader=DataLoader(test_data, batch_size=batch_size, shuffle=True, drop_last = True)\n",
        "valid_loader=DataLoader(valid_data, batch_size=batch_size, shuffle=True, drop_last = True)"
      ],
      "execution_count": 29,
      "outputs": []
    },
    {
      "cell_type": "code",
      "metadata": {
        "id": "ZHsv3g3t6mYA"
      },
      "source": [
        "vocab_size = len(vocab_dictionary)+1 # +1 for the 0 padding\n",
        "output_size = 24\n",
        "embedding_dim = 300\n",
        "hidden_dim = 200\n",
        "n_layers = 2\n",
        "sequence_length = 100"
      ],
      "execution_count": 30,
      "outputs": []
    },
    {
      "cell_type": "code",
      "metadata": {
        "id": "hlDyhLTv6n7q"
      },
      "source": [
        "\n",
        "class RE_LSTM(nn.Module):\n",
        "    \"\"\"\n",
        "    The BIDirectional LSTM model for RE.\n",
        "    \"\"\"\n",
        "    def __init__(self, vocab_size, output_size,  num_classes, embedding_dim, hidden_dim, n_layers, drop_prob=0.6):    \n",
        "        \"\"\"\n",
        "        Initialize the model by setting up the layers\n",
        "        \"\"\"\n",
        "        super().__init__()\n",
        "        self.output_size=output_size\n",
        "        self.n_layers=n_layers\n",
        "        self.hidden_dim=hidden_dim\n",
        "        \n",
        "        #Embedding and LSTM layers\n",
        "        self.embedding=nn.Embedding(vocab_size, embedding_dim)\n",
        "        self.lstm=nn.LSTM(embedding_dim, hidden_dim, n_layers, dropout=drop_prob, batch_first=True)\n",
        "        \n",
        "        #dropout layer\n",
        "        self.dropout=nn.Dropout(0.3)\n",
        "        \n",
        "        #Linear and sigmoid layer\n",
        "        self.final=nn.Linear(hidden_dim, output_size)\n",
        "        \n",
        "    def forward(self, x, hidden):\n",
        "        \"\"\"\n",
        "        Perform a forward pass of our model on some input and hidden state.\n",
        "        \"\"\"\n",
        "        batch_size=x.size(0)\n",
        "        #print(\"Batch_Size = \", batch_size)\n",
        "        embedd=self.embedding(x)\n",
        "        #print(\"Embedding_Shape = \", embedd.shape)\n",
        "        #embedd = embedd.permute(1,0,2)\n",
        "        lstm_out, hidden=self.lstm(embedd, hidden)   # Shape -> batch_size, word_length, hidden_dim   torch.Size([128, 100, 128])\n",
        "\n",
        "        #stack up the lstm output\n",
        "        #print(\"----------------\\nBefore :- \", lstm_out.shape)\n",
        "        #lstm_out=lstm_out.contiguous().view(-1, self.hidden_dim)\n",
        "        #print(\"After :- \", lstm_out.shape)  -> torch.Size([12800, 128])\n",
        "        \n",
        "        #print(\"LSTM Output Dimension = \", lstm_out.shape)\n",
        "        out=self.dropout(lstm_out)[:,-1,:]\n",
        "        #print(\"Dropout Shape = \", out.shape)\n",
        "        out = self.final(out)\n",
        "        #out = out.view(batch_size, -1)\n",
        "        #print(\"Final Output = \", out.shape) #--> torch.Size([128, 2400])\n",
        "        return out, hidden\n",
        "        '''\n",
        "        Batch_Size =  128\n",
        "        LSTM Output Dimension =  torch.Size([12800, 128])\n",
        "        Dropout Dimension =  torch.Size([12800, 128])\n",
        "        Final Output =  torch.Size([128, 2400])\n",
        "        torch.Size([128, 24]) torch.Size([128, 2400])\n",
        "\n",
        "        '''\n",
        "    \n",
        "    def init_hidden(self, batch_size):\n",
        "        \"\"\"Initialize Hidden STATE\"\"\"\n",
        "        # Create two new tensors with sizes n_layers x batch_size x hidden_dim,\n",
        "        # initialized to zero, for hidden state and cell state of LSTM\n",
        "        weight = next(self.parameters()).data\n",
        "        \n",
        "        if (cuda_availability_status):\n",
        "            hidden = (weight.new(self.n_layers, batch_size, self.hidden_dim).zero_().cuda(),\n",
        "                  weight.new(self.n_layers, batch_size, self.hidden_dim).zero_().cuda())\n",
        "        else:\n",
        "            hidden = (weight.new(self.n_layers, batch_size, self.hidden_dim).zero_(),\n",
        "                      weight.new(self.n_layers, batch_size, self.hidden_dim).zero_())\n",
        "        \n",
        "        return hidden"
      ],
      "execution_count": 31,
      "outputs": []
    },
    {
      "cell_type": "code",
      "metadata": {
        "colab": {
          "base_uri": "https://localhost:8080/"
        },
        "id": "5ckTGHMr6pq3",
        "outputId": "8d8fec17-7ec1-467e-a3d1-e312aa94619a"
      },
      "source": [
        "model = RE_LSTM(vocab_size, output_size, num_classes, embedding_dim, hidden_dim, n_layers)\n",
        "print(model)"
      ],
      "execution_count": 32,
      "outputs": [
        {
          "output_type": "stream",
          "text": [
            "RE_LSTM(\n",
            "  (embedding): Embedding(73188, 300)\n",
            "  (lstm): LSTM(300, 200, num_layers=2, batch_first=True, dropout=0.6)\n",
            "  (dropout): Dropout(p=0.3, inplace=False)\n",
            "  (final): Linear(in_features=200, out_features=24, bias=True)\n",
            ")\n"
          ],
          "name": "stdout"
        }
      ]
    },
    {
      "cell_type": "code",
      "metadata": {
        "colab": {
          "base_uri": "https://localhost:8080/"
        },
        "id": "l6KEnMLw6rk0",
        "outputId": "e43e3281-0472-4942-b615-5400d8bddafd"
      },
      "source": [
        "lr=0.001\n",
        "\n",
        "criterion = nn.BCEWithLogitsLoss()\n",
        "optimizer = torch.optim.Adam(model.parameters(), lr=lr)\n",
        "\n",
        "\n",
        "# training params\n",
        "\n",
        "epochs = 3 # 3-4 is approx where I noticed the validation loss stop decreasing\n",
        "\n",
        "counter = 0\n",
        "modulo = 100\n",
        "clip=5 # gradient clipping\n",
        "\n",
        "# move model to GPU, if available\n",
        "cuda_availability_status = torch.cuda.is_available()\n",
        "if(cuda_availability_status):\n",
        "    model.cuda()\n",
        "\n",
        "model.train()\n",
        "# train for some number of epochs\n",
        "for e in range(epochs):\n",
        "    # initialize hidden state\n",
        "    h = model.init_hidden(batch_size)\n",
        "\n",
        "    # batch loop\n",
        "    for inputs, labels in train_loader:\n",
        "        #print(\"Inputs, Labels shape = \", inputs.shape, labels.shape)\n",
        "        counter += 1\n",
        "        #print(\"Counter = \", counter)\n",
        "\n",
        "        if(cuda_availability_status):\n",
        "            inputs=inputs.to(device)\n",
        "            labels=labels.to(device)\n",
        "        # Creating new variables for the hidden state, otherwise\n",
        "        # we'd backprop through the entire training history\n",
        "        h = tuple([each.data for each in h])\n",
        "\n",
        "        # zero accumulated gradients\n",
        "        model.zero_grad()\n",
        "\n",
        "        #print(counter)\n",
        "        # get the output from the model\n",
        "        #print(h[0].shape)\n",
        "        output, h = model(inputs, h)\n",
        "      \n",
        "        #print(\"Output  Shape = \", output.shape,\" Labels shape = \", labels.shape)\n",
        "        loss = criterion(output, labels)\n",
        "        loss.backward()\n",
        "        nn.utils.clip_grad_norm_(model.parameters(), clip)\n",
        "        optimizer.step()\n",
        "\n",
        "        # loss stats\n",
        "        if counter % modulo == 0:\n",
        "            # Get validation loss\n",
        "            val_h = model.init_hidden(batch_size)\n",
        "            val_losses = []\n",
        "            model.eval()\n",
        "            for inputs, labels in valid_loader:\n",
        "\n",
        "                # Creating new variables for the hidden state, otherwise\n",
        "                # we'd backprop through the entire training history\n",
        "                val_h = tuple([each.data for each in val_h])\n",
        "                if cuda_availability_status:\n",
        "                  inputs, labels = inputs.cuda(), labels.cuda()\n",
        "                #print(\"Hiya\")\n",
        "                \n",
        "                output, val_h = model(inputs, val_h)\n",
        "                val_loss = criterion(output.squeeze(), labels)\n",
        "\n",
        "                val_losses.append(val_loss.item())\n",
        "                \n",
        "            model.train()\n",
        "            print(\"Epoch: {}/{}...\".format(e+1, epochs),\n",
        "                  \"Step: {}...\".format(counter),\n",
        "                  \"Loss: {:.6f}...\".format(loss.item()),\n",
        "                  \"Val Loss: {:.6f}\".format(np.mean(val_losses)))"
      ],
      "execution_count": 33,
      "outputs": [
        {
          "output_type": "stream",
          "text": [
            "Epoch: 1/3... Step: 100... Loss: 0.105372... Val Loss: 0.108385\n",
            "Epoch: 1/3... Step: 200... Loss: 0.110480... Val Loss: 0.108237\n",
            "Epoch: 1/3... Step: 300... Loss: 0.118676... Val Loss: 0.108092\n",
            "Epoch: 1/3... Step: 400... Loss: 0.112773... Val Loss: 0.108156\n",
            "Epoch: 2/3... Step: 500... Loss: 0.099645... Val Loss: 0.108221\n",
            "Epoch: 2/3... Step: 600... Loss: 0.104027... Val Loss: 0.108282\n",
            "Epoch: 2/3... Step: 700... Loss: 0.110474... Val Loss: 0.108350\n",
            "Epoch: 2/3... Step: 800... Loss: 0.109633... Val Loss: 0.108309\n",
            "Epoch: 3/3... Step: 900... Loss: 0.112705... Val Loss: 0.108017\n",
            "Epoch: 3/3... Step: 1000... Loss: 0.105733... Val Loss: 0.108220\n",
            "Epoch: 3/3... Step: 1100... Loss: 0.107786... Val Loss: 0.108312\n",
            "Epoch: 3/3... Step: 1200... Loss: 0.106899... Val Loss: 0.108197\n",
            "Epoch: 3/3... Step: 1300... Loss: 0.120605... Val Loss: 0.108277\n"
          ],
          "name": "stdout"
        }
      ]
    },
    {
      "cell_type": "code",
      "metadata": {
        "colab": {
          "base_uri": "https://localhost:8080/"
        },
        "id": "dB4N2KI7WVE3",
        "outputId": "f4101e2a-3d8b-48ff-d439-bb210d6d715f"
      },
      "source": [
        "print(output[:10])"
      ],
      "execution_count": 34,
      "outputs": [
        {
          "output_type": "stream",
          "text": [
            "tensor([[  0.3108,  -3.6267,  -2.3783,  -2.5321,  -3.1476,  -6.3880,  -2.4770,\n",
            "          -5.0742,  -2.8251,  -4.8943,  -4.3323,  -3.5880,  -5.4585,  -3.1707,\n",
            "          -7.4531,  -7.0251,  -6.2914,  -6.5530,  -6.5666,  -6.4080,  -8.1619,\n",
            "          -8.5408,  -9.4548,  -9.8428],\n",
            "        [  0.3830,  -3.2871,  -2.6384,  -2.4937,  -3.5856,  -7.0690,  -2.2884,\n",
            "          -4.9211,  -3.1785,  -5.0762,  -4.2539,  -3.6474,  -5.5495,  -3.5059,\n",
            "          -6.7669,  -7.6402,  -5.8391,  -6.8278,  -6.7473,  -7.1070,  -7.8805,\n",
            "          -8.4496,  -8.9159,  -9.5202],\n",
            "        [  0.3079,  -3.9445,  -2.7151,  -2.6186,  -3.3251,  -6.8420,  -2.4928,\n",
            "          -5.0275,  -2.8664,  -4.9193,  -4.0989,  -3.8304,  -5.0684,  -3.1957,\n",
            "          -7.0678,  -8.4311,  -6.3991,  -7.1579,  -6.1888,  -6.8528,  -8.5810,\n",
            "          -9.3179,  -9.4969, -10.0476],\n",
            "        [  0.4609,  -4.2812,  -2.7577,  -2.8695,  -3.3979,  -7.0176,  -2.4881,\n",
            "          -5.4728,  -3.4401,  -5.7832,  -4.7836,  -3.9899,  -6.0760,  -3.0659,\n",
            "          -7.8176,  -8.3333,  -6.8760,  -7.3774,  -7.9407,  -7.4258,  -9.1253,\n",
            "          -9.8400, -10.6921, -10.0401],\n",
            "        [  0.5612,  -4.0625,  -2.9402,  -2.8899,  -3.5590,  -6.7278,  -2.7959,\n",
            "          -5.3753,  -3.5900,  -5.8273,  -4.6166,  -4.1423,  -5.6383,  -3.6823,\n",
            "          -7.9556,  -8.6597,  -6.5025,  -7.1433,  -6.9818,  -7.2309,  -9.0657,\n",
            "          -9.0373,  -9.5232, -10.5024],\n",
            "        [  0.5050,  -3.3903,  -2.4190,  -2.4440,  -3.2581,  -6.4222,  -2.2291,\n",
            "          -5.0382,  -2.8929,  -5.0972,  -4.1894,  -3.9332,  -5.1618,  -3.1905,\n",
            "          -7.0489,  -7.2962,  -5.7841,  -6.9093,  -6.5940,  -6.5734,  -8.4159,\n",
            "          -9.5562,  -8.7044,  -8.9686],\n",
            "        [  0.2553,  -3.6176,  -2.5093,  -2.4196,  -3.3057,  -6.1996,  -2.3845,\n",
            "          -4.9420,  -3.0915,  -5.4174,  -4.0259,  -3.6500,  -5.4720,  -3.2303,\n",
            "          -7.7517,  -7.6542,  -6.4256,  -6.8015,  -6.8142,  -6.5283,  -9.1058,\n",
            "          -9.6565,  -9.4156,  -9.5162],\n",
            "        [  0.4247,  -3.9552,  -2.6690,  -2.3465,  -3.4016,  -7.0490,  -2.4275,\n",
            "          -5.3710,  -3.1085,  -5.4390,  -4.3837,  -3.7328,  -5.9085,  -3.3131,\n",
            "          -7.5649,  -8.5402,  -6.4259,  -6.8247,  -7.0386,  -7.3424,  -8.4947,\n",
            "          -9.5800,  -9.3812, -10.4543],\n",
            "        [  0.4102,  -3.8445,  -2.6893,  -2.8312,  -3.6832,  -7.0036,  -2.7244,\n",
            "          -5.4668,  -3.3123,  -6.0038,  -4.8308,  -3.8392,  -6.0687,  -3.6740,\n",
            "          -7.6810,  -8.6417,  -6.5736,  -7.1906,  -6.8894,  -8.0226,  -9.2697,\n",
            "          -9.3623, -10.1483, -10.4410],\n",
            "        [  0.3494,  -3.3155,  -2.3523,  -2.5019,  -3.4475,  -6.3480,  -2.6553,\n",
            "          -4.7287,  -3.3519,  -5.2866,  -4.2666,  -3.7554,  -5.0812,  -3.1430,\n",
            "          -7.0611,  -7.3623,  -6.4303,  -6.5912,  -7.1122,  -6.5719,  -8.5553,\n",
            "          -8.5972,  -9.1863,  -9.0120]], device='cuda:0',\n",
            "       grad_fn=<SliceBackward>)\n"
          ],
          "name": "stdout"
        }
      ]
    },
    {
      "cell_type": "code",
      "metadata": {
        "colab": {
          "base_uri": "https://localhost:8080/"
        },
        "id": "O8FQ4uyI6tE-",
        "outputId": "7e4dcaa7-bbc0-4367-dce8-45fc7657b082"
      },
      "source": [
        "\n",
        "test_losses = [] # track loss\n",
        "num_correct = 0\n",
        "\n",
        "# init hidden state\n",
        "model.to(device)\n",
        "h = model.init_hidden(batch_size)\n",
        "\n",
        "model.eval()\n",
        "# iterate over test data\n",
        "for inputs, labels in test_loader:\n",
        "\n",
        "    # Creating new variables for the hidden state, otherwise\n",
        "    # we'd backprop through the entire training history\n",
        "    h = tuple([each.data for each in h])\n",
        "\n",
        "    if(cuda_availability_status):\n",
        "        inputs, labels = inputs.cuda(), labels.cuda()\n",
        "    \n",
        "    # get predicted outputs\n",
        "    #print(\"Inputs shape = \", inputs.shape)\n",
        "    #inputs = inputs.type(torch.LongTensor).to(device)\n",
        "    output, h = model(inputs, h)\n",
        "    \n",
        "    # calculate loss\n",
        "    #print(output.squeeze().shape, labels.shape)\n",
        "    test_loss = criterion(output.squeeze(), labels)\n",
        "    test_losses.append(test_loss.item())\n",
        "    \n",
        "    # convert output probabilities to predicted class (0 or 1)\n",
        "    #print(\"Output Sqeeze shape = \", output.squeeze().shape)\n",
        "    pred = torch.round(output.squeeze())  # rounds to the nearest integer\n",
        "    \n",
        "    # compare predictions to true label\n",
        "    #print(pred.shape, labels.shape)\n",
        "    correct_tensor = pred.eq(labels.view_as(pred))\n",
        "    correct = np.squeeze(correct_tensor.numpy()) if not cuda_availability_status else np.squeeze(correct_tensor.cpu().numpy())\n",
        "    num_correct += np.sum(correct)\n",
        "\n",
        "\n",
        "# -- stats! -- ##\n",
        "# avg test loss\n",
        "print(\"Test loss: {:.3f}\".format(np.mean(test_losses)))\n",
        "\n",
        "# accuracy over all test data\n",
        "test_acc = num_correct/len(test_loader.dataset)\n",
        "print(\"Test accuracy: {:.3f}\".format(test_acc))"
      ],
      "execution_count": 72,
      "outputs": [
        {
          "output_type": "stream",
          "text": [
            "Test loss: 0.109\n",
            "Test accuracy: 0.481\n"
          ],
          "name": "stdout"
        }
      ]
    },
    {
      "cell_type": "code",
      "metadata": {
        "id": "A5-2hs8Jyzn-"
      },
      "source": [
        ""
      ],
      "execution_count": null,
      "outputs": []
    }
  ]
}