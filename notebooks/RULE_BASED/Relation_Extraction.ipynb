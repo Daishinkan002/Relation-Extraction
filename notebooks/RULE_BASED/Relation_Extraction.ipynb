{
  "cells": [
    {
      "cell_type": "markdown",
      "metadata": {
        "id": "lq3JldGvU8zb"
      },
      "source": [
        "# **RULE BASED APPROACH**"
      ]
    },
    {
      "cell_type": "code",
<<<<<<< HEAD:notebooks/RULE_BASED/Relation_Extraction.ipynb
      "execution_count": 86,
=======
      "execution_count": 1,
>>>>>>> 95279cc806733be0e96ec5602bd1b9a04a09f485:RULE_BASED/Relation_Extraction.ipynb
      "metadata": {
        "id": "EB2SI28gVJCO"
      },
      "outputs": [],
      "source": [
        "import pandas as pd\n",
        "import numpy as np\n",
        "from tqdm import tqdm\n",
        "import re \n",
        "import string \n",
        "import nltk \n",
        "import spacy \n",
        "import math\n",
        "import os\n",
        "from spacy.matcher import Matcher\n",
        "from spacy.tokens import Span \n",
        "from spacy import displacy \n",
        "\n",
        "pd.set_option('display.max_colwidth', 200)"
      ]
    },
    {
      "cell_type": "code",
<<<<<<< HEAD:notebooks/RULE_BASED/Relation_Extraction.ipynb
      "execution_count": 87,
      "metadata": {},
      "outputs": [],
      "source": [
        "#Downloading the required spacy vocab file\n",
        "# os.system('python -m spacy download en_core_web_smspacy download en_core_web_sm')"
      ]
    },
    {
      "cell_type": "code",
      "execution_count": 88,
=======
      "execution_count": 4,
>>>>>>> 95279cc806733be0e96ec5602bd1b9a04a09f485:RULE_BASED/Relation_Extraction.ipynb
      "metadata": {
        "id": "pR2qfzBmVPLW"
      },
      "outputs": [],
      "source": [
<<<<<<< HEAD:notebooks/RULE_BASED/Relation_Extraction.ipynb
        "train_df = pd.read_json('../../data/raw/raw_nyt/raw_train.json', lines = True)"
=======
        "train_df = pd.read_json('../Dataset/raw_nyt/raw_train.json', lines = True)"
>>>>>>> 95279cc806733be0e96ec5602bd1b9a04a09f485:RULE_BASED/Relation_Extraction.ipynb
      ]
    },
    {
      "cell_type": "code",
<<<<<<< HEAD:notebooks/RULE_BASED/Relation_Extraction.ipynb
      "execution_count": 89,
=======
      "execution_count": 17,
>>>>>>> 95279cc806733be0e96ec5602bd1b9a04a09f485:RULE_BASED/Relation_Extraction.ipynb
      "metadata": {
        "colab": {
          "base_uri": "https://localhost:8080/"
        },
        "id": "_V5kbThOchQ_",
        "outputId": "cbae8ebe-db26-45c0-a3dc-2a22e60812e3"
      },
      "outputs": [
        {
          "data": {
            "text/plain": [
              "0                                                                                              Massachusetts ASTON MAGNA Great Barrington ; also at Bard College , Annandale-on-Hudson , N.Y. , July 1-Aug .\n",
              "1                                                                                                                                       North Carolina EASTERN MUSIC FESTIVAL Greensboro , June 25-July 30 .\n",
              "2                               It will be the final movie credited to Debra Hill , a film producer and native of Haddonfield , who produced '' Halloween '' and was considered a pioneering woman in film .\n",
              "3    In a 3-0 victory over the Crew on Saturday in Columbus , Ohio , goalkeeper Zach Wells stopped Kyle Martino 's penalty kick , only the third unsuccessful penalty in 20 attempts in M.L.S. this season .\n",
              "4    The United States ambassador to Mexico , Tony Garza , said in a statement that he had directed the American Consulate in Nuevo Laredo to reopen on Monday , a week after he ordered it closed becaus...\n",
              "Name: sentText, dtype: object"
            ]
          },
<<<<<<< HEAD:notebooks/RULE_BASED/Relation_Extraction.ipynb
          "execution_count": 89,
=======
          "execution_count": 17,
>>>>>>> 95279cc806733be0e96ec5602bd1b9a04a09f485:RULE_BASED/Relation_Extraction.ipynb
          "metadata": {},
          "output_type": "execute_result"
        }
      ],
      "source": [
<<<<<<< HEAD:notebooks/RULE_BASED/Relation_Extraction.ipynb
        "train_df['sentText'].head(5)"
=======
        "train_df['sentText'].head()"
>>>>>>> 95279cc806733be0e96ec5602bd1b9a04a09f485:RULE_BASED/Relation_Extraction.ipynb
      ]
    },
    {
      "cell_type": "code",
<<<<<<< HEAD:notebooks/RULE_BASED/Relation_Extraction.ipynb
      "execution_count": 90,
      "metadata": {},
      "outputs": [],
      "source": [
        "#Loading vocab\n",
        "loader = spacy.load('en_core_web_sm')"
=======
      "execution_count": 19,
      "metadata": {},
      "outputs": [],
      "source": [
        "# Loading Vocab\n",
        "loader = spacy.load(\"en_core_web_sm\")"
>>>>>>> 95279cc806733be0e96ec5602bd1b9a04a09f485:RULE_BASED/Relation_Extraction.ipynb
      ]
    },
    {
      "cell_type": "code",
<<<<<<< HEAD:notebooks/RULE_BASED/Relation_Extraction.ipynb
      "execution_count": 91,
=======
      "execution_count": 20,
>>>>>>> 95279cc806733be0e96ec5602bd1b9a04a09f485:RULE_BASED/Relation_Extraction.ipynb
      "metadata": {
        "colab": {
          "base_uri": "https://localhost:8080/"
        },
        "id": "NgiAYTJGqH2w",
        "outputId": "3ab50f82-1565-411e-e656-763d89af156b"
      },
      "outputs": [
        {
          "name": "stderr",
          "output_type": "stream",
          "text": [
<<<<<<< HEAD:notebooks/RULE_BASED/Relation_Extraction.ipynb
            "100%|██████████| 56196/56196 [17:46<00:00, 52.70it/s]\n"
=======
            "100%|██████████| 56196/56196 [16:13<00:00, 57.74it/s]\n"
>>>>>>> 95279cc806733be0e96ec5602bd1b9a04a09f485:RULE_BASED/Relation_Extraction.ipynb
          ]
        }
      ],
      "source": [
        "# Matcher class object\n",
        "matcher = Matcher(loader.vocab)\n",
        "\n",
        "#define the pattern\n",
        "pattern = [{'DEP':'compound', 'OP':\"?\"},\n",
        "           {'POS':'PROPN'},\n",
        "           {'POS': 'VERB'},\n",
        "           {'DEP': 'agent', 'OP':\"?\"},\n",
        "           {'POS': 'PROPN'}]\n",
        "\n",
        "\n",
        "#add pattern\n",
        "matcher.add(\"matching_1\", None, pattern)\n",
        "\n",
        "# Selecting list of sentences having pattern\n",
        "matched_phrases = []\n",
        "for i in tqdm(range(len(train_df['sentText']))):\n",
        "  doc = loader(train_df['sentText'][i])\n",
        "  matches = matcher(doc)\n",
        "  if(len(matches)):\n",
        "    span = doc[matches[0][1]:matches[0][2]]\n",
        "    matched_phrases.append([train_df['sentText'][i],span.text])"
      ]
    },
    {
      "cell_type": "markdown",
      "metadata": {
        "id": "BDoFi_aZUh95"
      },
      "source": [
        "**SAVE IN NUMPY ARRAY**"
      ]
    },
    {
      "cell_type": "code",
<<<<<<< HEAD:notebooks/RULE_BASED/Relation_Extraction.ipynb
      "execution_count": 92,
=======
      "execution_count": 21,
>>>>>>> 95279cc806733be0e96ec5602bd1b9a04a09f485:RULE_BASED/Relation_Extraction.ipynb
      "metadata": {
        "id": "89slw2q8yjsp"
      },
      "outputs": [],
      "source": [
        "from numpy import asarray\n",
        "from numpy import save\n",
        "# define data\n",
        "data = asarray(matched_phrases)\n",
        "# save to npy file\n",
<<<<<<< HEAD:notebooks/RULE_BASED/Relation_Extraction.ipynb
        "save('../../data/processed/Rule_Based_Data.npy', data)"
=======
        "save('Data.npy', data)"
>>>>>>> 95279cc806733be0e96ec5602bd1b9a04a09f485:RULE_BASED/Relation_Extraction.ipynb
      ]
    },
    {
      "cell_type": "markdown",
      "metadata": {
        "id": "Fv7V0N-sUrae"
      },
      "source": [
        "**LOAD NUMPY ARRAY**"
      ]
    },
    {
      "cell_type": "code",
<<<<<<< HEAD:notebooks/RULE_BASED/Relation_Extraction.ipynb
      "execution_count": 93,
=======
      "execution_count": 22,
>>>>>>> 95279cc806733be0e96ec5602bd1b9a04a09f485:RULE_BASED/Relation_Extraction.ipynb
      "metadata": {
        "id": "zGRF2ii3UWdr"
      },
      "outputs": [],
      "source": [
        "from numpy import load\n",
<<<<<<< HEAD:notebooks/RULE_BASED/Relation_Extraction.ipynb
        "data = load('../../data/processed/Rule_Based_Data.npy')"
=======
        "data = load('Data.npy')"
>>>>>>> 95279cc806733be0e96ec5602bd1b9a04a09f485:RULE_BASED/Relation_Extraction.ipynb
      ]
    },
    {
      "cell_type": "code",
<<<<<<< HEAD:notebooks/RULE_BASED/Relation_Extraction.ipynb
      "execution_count": 94,
=======
      "execution_count": 23,
>>>>>>> 95279cc806733be0e96ec5602bd1b9a04a09f485:RULE_BASED/Relation_Extraction.ipynb
      "metadata": {
        "id": "jOqQdXm05qxN"
      },
      "outputs": [],
      "source": [
        "def get_entities_relations(matcher, sentence):\n",
        "  ## Match phrase and return e&r for the given matcher class else return -1\n",
        "\n",
        "  sentence = loader(sentence)\n",
        "  matches = matcher(sentence)\n",
        "  entity1 = -1\n",
        "  entity2 = -1\n",
        "  relation = -1\n",
        "  if(len(matches)):\n",
        "    span = sentence[matches[0][1]:matches[0][2]]\n",
        "    useful_text = span.text\n",
        "    sentence = loader(str(useful_text))\n",
        "    sent_last_index = len(sentence)-1\n",
        "    entity2 = sentence[sent_last_index]\n",
        "    if (sentence[1].pos_ == 'PROPN'):\n",
        "      entity1 = (\" \".join([str(j.text) for j in sentence[0:2]]))\n",
        "    else:\n",
        "      entity1 = sentence[0]\n",
        "    for word in sentence:\n",
        "      if((word.pos_ == 'VERB') or (word.pos_ == 'ADJ')):\n",
        "        relation = word.text\n",
        "        break\n",
        "  return entity1, entity2, relation"
      ]
    },
    {
      "cell_type": "code",
<<<<<<< HEAD:notebooks/RULE_BASED/Relation_Extraction.ipynb
      "execution_count": 95,
=======
      "execution_count": 24,
>>>>>>> 95279cc806733be0e96ec5602bd1b9a04a09f485:RULE_BASED/Relation_Extraction.ipynb
      "metadata": {
        "colab": {
          "base_uri": "https://localhost:8080/"
        },
        "id": "g1IETpgZXGLl",
        "outputId": "ccd976b0-ad2d-4f51-88f4-9450c90b5069"
      },
      "outputs": [
        {
          "name": "stderr",
          "output_type": "stream",
          "text": [
<<<<<<< HEAD:notebooks/RULE_BASED/Relation_Extraction.ipynb
            "100%|██████████| 1510/1510 [00:15<00:00, 99.45it/s] \n"
=======
            "100%|██████████| 1510/1510 [00:15<00:00, 99.10it/s] \n"
>>>>>>> 95279cc806733be0e96ec5602bd1b9a04a09f485:RULE_BASED/Relation_Extraction.ipynb
          ]
        }
      ],
      "source": [
        "## Extracting entities and relations for particular pattern\n",
        "\n",
        "entity1 = []\n",
        "entity2 = []\n",
        "relations = []\n",
        "sentText = []\n",
        "for index in tqdm(range(len(data))):\n",
        "  sentence = loader(str(data[index][1]))\n",
        "  sent_last_index = len(sentence)-1\n",
        "  entity2.append(sentence[sent_last_index])\n",
        "  if (sentence[1].pos_ == 'PROPN'):\n",
        "    entity1.append((\" \".join([str(j.text) for j in sentence[0:2]])))\n",
        "  else:\n",
        "    entity1.append(sentence[0])\n",
        "  sentText.append(str(data[index][0]))\n",
        "  \n",
        "  for word in sentence:\n",
        "    if((word.pos_ == 'VERB') or (word.pos_ == 'ADJ')):\n",
        "      relations.append(word.text)\n",
        "      break\n",
        "  if(len(entity2) > len(relations)):\n",
        "    entity1.pop()\n",
        "    entity2.pop()\n",
        "    sentText.pop()"
      ]
    },
    {
      "cell_type": "code",
<<<<<<< HEAD:notebooks/RULE_BASED/Relation_Extraction.ipynb
      "execution_count": 96,
=======
      "execution_count": 25,
>>>>>>> 95279cc806733be0e96ec5602bd1b9a04a09f485:RULE_BASED/Relation_Extraction.ipynb
      "metadata": {
        "colab": {
          "base_uri": "https://localhost:8080/"
        },
        "id": "c906RBeizWug",
        "outputId": "7011daec-25c4-42c3-97bb-744ba93e2ae2"
      },
      "outputs": [
        {
          "name": "stdout",
          "output_type": "stream",
          "text": [
            "Total Entity1 =  1463 \n",
            " Total Entity2 =  1463 \n",
            " Total Relation =  1463 \n",
            " Total Sentence =  1463\n"
          ]
        }
      ],
      "source": [
        "# Total Entities, Relations and Sentences Extracted\n",
        "print(\n",
        "    \"Total Entity1 = \", len(entity1),\n",
        "    \"\\n Total Entity2 = \", len(entity2),\n",
        "    \"\\n Total Relation = \", len(relations),\n",
        "    \"\\n Total Sentence = \", len(sentText)\n",
        ")"
      ]
    },
    {
      "cell_type": "code",
<<<<<<< HEAD:notebooks/RULE_BASED/Relation_Extraction.ipynb
      "execution_count": 97,
=======
      "execution_count": 26,
>>>>>>> 95279cc806733be0e96ec5602bd1b9a04a09f485:RULE_BASED/Relation_Extraction.ipynb
      "metadata": {
        "id": "-FmQ8zD3oyG4"
      },
      "outputs": [],
      "source": [
        "dictionary = {\"Sentence\": sentText, \"Entity1\" : entity1, \"Entity2\" : entity2, \"relation\" : relations}"
      ]
    },
    {
      "cell_type": "code",
<<<<<<< HEAD:notebooks/RULE_BASED/Relation_Extraction.ipynb
      "execution_count": 98,
=======
      "execution_count": 27,
>>>>>>> 95279cc806733be0e96ec5602bd1b9a04a09f485:RULE_BASED/Relation_Extraction.ipynb
      "metadata": {
        "id": "DfoKHmio3_SZ"
      },
      "outputs": [],
      "source": [
        "df = pd.DataFrame(dictionary)"
      ]
    },
    {
      "cell_type": "code",
<<<<<<< HEAD:notebooks/RULE_BASED/Relation_Extraction.ipynb
      "execution_count": 99,
=======
      "execution_count": 28,
>>>>>>> 95279cc806733be0e96ec5602bd1b9a04a09f485:RULE_BASED/Relation_Extraction.ipynb
      "metadata": {
        "colab": {
          "base_uri": "https://localhost:8080/",
          "height": 276
        },
        "id": "5BwAqp_e4HlI",
        "outputId": "486b290e-94fc-4389-aaca-09d2e99a76c5"
      },
      "outputs": [
        {
          "data": {
            "text/html": [
              "<div>\n",
              "<style scoped>\n",
              "    .dataframe tbody tr th:only-of-type {\n",
              "        vertical-align: middle;\n",
              "    }\n",
              "\n",
              "    .dataframe tbody tr th {\n",
              "        vertical-align: top;\n",
              "    }\n",
              "\n",
              "    .dataframe thead th {\n",
              "        text-align: right;\n",
              "    }\n",
              "</style>\n",
              "<table border=\"1\" class=\"dataframe\">\n",
              "  <thead>\n",
              "    <tr style=\"text-align: right;\">\n",
              "      <th></th>\n",
              "      <th>Sentence</th>\n",
              "      <th>Entity1</th>\n",
              "      <th>Entity2</th>\n",
              "      <th>relation</th>\n",
              "    </tr>\n",
              "  </thead>\n",
              "  <tbody>\n",
              "    <tr>\n",
              "      <th>0</th>\n",
              "      <td>In a 3-0 victory over the Crew on Saturday in Columbus , Ohio , goalkeeper Zach Wells stopped Kyle Martino 's penalty kick , only the third unsuccessful penalty in 20 attempts in M.L.S. this season .</td>\n",
              "      <td>Zach Wells</td>\n",
              "      <td>Kyle</td>\n",
              "      <td>stopped</td>\n",
              "    </tr>\n",
              "    <tr>\n",
              "      <th>1</th>\n",
              "      <td>NEARLY two years after Charles Taylor fled Monrovia under pressure from advancing rebels and a force of Marines on ships off Liberia , he sits exiled in Nigeria , plotting to undermine an internat...</td>\n",
              "      <td>Charles Taylor</td>\n",
              "      <td>Monrovia</td>\n",
              "      <td>fled</td>\n",
              "    </tr>\n",
              "    <tr>\n",
              "      <th>2</th>\n",
              "      <td>Defensively , the Giants rarely touched Eagles quarterback Donovan McNabb , and the secondary kept away from Philadelphia receivers as if they were toxic .</td>\n",
              "      <td>Eagles</td>\n",
              "      <td>Donovan</td>\n",
              "      <td>quarterback</td>\n",
              "    </tr>\n",
              "    <tr>\n",
              "      <th>3</th>\n",
              "      <td>On Dec. 25 , in a driving rain , the news that Charles Taylor had attacked Liberia reached Monrovia .</td>\n",
              "      <td>Liberia</td>\n",
              "      <td>Monrovia</td>\n",
              "      <td>reached</td>\n",
              "    </tr>\n",
              "    <tr>\n",
              "      <th>4</th>\n",
              "      <td>Last week , Mr. O'Connell sipped Sprite in the tchotchke-filled living room of his two-family brick house in Bay Ridge , Brooklyn , which he shares with a grown son and daughter , and recalled his...</td>\n",
              "      <td>Mr. O'Connell</td>\n",
              "      <td>Sprite</td>\n",
              "      <td>sipped</td>\n",
              "    </tr>\n",
              "  </tbody>\n",
              "</table>\n",
              "</div>"
            ],
            "text/plain": [
              "                                                                                                                                                                                                  Sentence  \\\n",
              "0  In a 3-0 victory over the Crew on Saturday in Columbus , Ohio , goalkeeper Zach Wells stopped Kyle Martino 's penalty kick , only the third unsuccessful penalty in 20 attempts in M.L.S. this season .   \n",
              "1  NEARLY two years after Charles Taylor fled Monrovia under pressure from advancing rebels and a force of Marines on ships off Liberia , he sits exiled in Nigeria , plotting to undermine an internat...   \n",
              "2                                              Defensively , the Giants rarely touched Eagles quarterback Donovan McNabb , and the secondary kept away from Philadelphia receivers as if they were toxic .   \n",
              "3                                                                                                    On Dec. 25 , in a driving rain , the news that Charles Taylor had attacked Liberia reached Monrovia .   \n",
              "4  Last week , Mr. O'Connell sipped Sprite in the tchotchke-filled living room of his two-family brick house in Bay Ridge , Brooklyn , which he shares with a grown son and daughter , and recalled his...   \n",
              "\n",
              "          Entity1   Entity2     relation  \n",
              "0      Zach Wells      Kyle      stopped  \n",
              "1  Charles Taylor  Monrovia         fled  \n",
              "2          Eagles   Donovan  quarterback  \n",
              "3         Liberia  Monrovia      reached  \n",
              "4   Mr. O'Connell    Sprite       sipped  "
            ]
          },
<<<<<<< HEAD:notebooks/RULE_BASED/Relation_Extraction.ipynb
          "execution_count": 99,
=======
          "execution_count": 28,
>>>>>>> 95279cc806733be0e96ec5602bd1b9a04a09f485:RULE_BASED/Relation_Extraction.ipynb
          "metadata": {},
          "output_type": "execute_result"
        }
      ],
      "source": [
        "df.head()"
      ]
    },
    {
      "cell_type": "code",
<<<<<<< HEAD:notebooks/RULE_BASED/Relation_Extraction.ipynb
      "execution_count": 100,
=======
      "execution_count": 29,
>>>>>>> 95279cc806733be0e96ec5602bd1b9a04a09f485:RULE_BASED/Relation_Extraction.ipynb
      "metadata": {
        "id": "rn5qZ1dCENnG"
      },
      "outputs": [],
      "source": [
<<<<<<< HEAD:notebooks/RULE_BASED/Relation_Extraction.ipynb
        "df.to_csv('../../reports/results/Rule_Based/all_matched_pattern.csv')"
=======
        "df.to_csv('all_matched_pattern.csv')"
>>>>>>> 95279cc806733be0e96ec5602bd1b9a04a09f485:RULE_BASED/Relation_Extraction.ipynb
      ]
    },
    {
      "cell_type": "markdown",
      "metadata": {},
      "source": [
<<<<<<< HEAD:notebooks/RULE_BASED/Relation_Extraction.ipynb
        "### **TEST ON SENTENCE**"
=======
        "### **TESTING"
>>>>>>> 95279cc806733be0e96ec5602bd1b9a04a09f485:RULE_BASED/Relation_Extraction.ipynb
      ]
    },
    {
      "cell_type": "code",
<<<<<<< HEAD:notebooks/RULE_BASED/Relation_Extraction.ipynb
      "execution_count": 103,
=======
      "execution_count": 30,
>>>>>>> 95279cc806733be0e96ec5602bd1b9a04a09f485:RULE_BASED/Relation_Extraction.ipynb
      "metadata": {
        "id": "G4zB30MgEl_k"
      },
      "outputs": [],
      "source": [
        "# Getting Entities and Relations for the following sentence ----\n",
        "sentence = \"Steve Jobs Founded Apple\"\n",
        "matcher = Matcher(loader.vocab)\n",
        "\n",
        "pattern = [{'DEP':'compound', 'OP':\"?\"}, # adjectival modifier\n",
        "           {'POS':'PROPN'},\n",
        "           {'POS':'NOUN', 'OP': \"?\"},\n",
        "           {'POS': 'VERB'},\n",
        "           {'DEP': 'agent', 'OP':\"?\"},\n",
        "           {'POS': 'PROPN'}]\n",
        "\n",
        "matcher.add(\"matching_1\", None, pattern)\n",
        "# loader = spacy.load('en_core_web_sm')\n",
        "e1, e2, rel = get_entities_relations(matcher,sentence)"
      ]
    },
    {
      "cell_type": "code",
<<<<<<< HEAD:notebooks/RULE_BASED/Relation_Extraction.ipynb
      "execution_count": 104,
=======
      "execution_count": 31,
>>>>>>> 95279cc806733be0e96ec5602bd1b9a04a09f485:RULE_BASED/Relation_Extraction.ipynb
      "metadata": {
        "colab": {
          "base_uri": "https://localhost:8080/"
        },
        "id": "aWjMbj-oCABN",
        "outputId": "75fb6fd7-d862-40ff-f73f-f7e29df244f2"
      },
      "outputs": [
        {
          "name": "stdout",
          "output_type": "stream",
          "text": [
            "\n",
            "==============================\n",
            " Entity 1 =  Steve Jobs \n",
            "Relation =  Founded \n",
            "Entity 2 =  Apple \n",
            "==============================\n",
            "\n",
            "\n",
            "\n",
            "\n",
            " If (-1) => following content is not found\n"
          ]
        }
      ],
      "source": [
        "print(\n",
        "    \"\\n==============================\\n\",\n",
        "    \"Entity 1 = \", e1,\n",
        "    \"\\nRelation = \", rel,\n",
        "    \"\\nEntity 2 = \", e2,\n",
        "    \"\\n==============================\\n\",\n",
        ")\n",
        "\n",
        "\n",
        "\n",
        "print(\"\\n\\n\\n If (-1) => following content is not found\")"
      ]
    },
    {
      "cell_type": "code",
      "execution_count": null,
<<<<<<< HEAD:notebooks/RULE_BASED/Relation_Extraction.ipynb
      "metadata": {},
=======
      "metadata": {
        "id": "Sti5miAJCXSO"
      },
>>>>>>> 95279cc806733be0e96ec5602bd1b9a04a09f485:RULE_BASED/Relation_Extraction.ipynb
      "outputs": [],
      "source": []
    }
  ],
  "metadata": {
    "colab": {
      "collapsed_sections": [],
      "name": "Relation Extraction.ipynb",
      "provenance": []
    },
    "kernelspec": {
      "display_name": "Python 3",
      "name": "python3"
    },
    "language_info": {
      "codemirror_mode": {
        "name": "ipython",
        "version": 3
      },
      "file_extension": ".py",
      "mimetype": "text/x-python",
      "name": "python",
      "nbconvert_exporter": "python",
      "pygments_lexer": "ipython3",
      "version": "3.9.7"
    }
  },
  "nbformat": 4,
  "nbformat_minor": 0
}
