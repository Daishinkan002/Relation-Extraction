{
  "nbformat": 4,
  "nbformat_minor": 0,
  "metadata": {
    "colab": {
      "name": "Relation Extraction.ipynb",
      "provenance": [],
      "collapsed_sections": []
    },
    "kernelspec": {
      "display_name": "Python 3",
      "name": "python3"
    },
    "language_info": {
      "name": "python"
    }
  },
  "cells": [
    {
      "cell_type": "markdown",
      "metadata": {
        "id": "lq3JldGvU8zb"
      },
      "source": [
        "# **RULE BASED APPROACH**"
      ]
    },
    {
      "cell_type": "code",
      "metadata": {
        "id": "EB2SI28gVJCO"
      },
      "source": [
        "import pandas as pd\n",
        "import numpy as np\n",
        "import torch\n",
        "from tqdm import tqdm\n",
        "import re \n",
        "import string \n",
        "import nltk \n",
        "import spacy \n",
        "import math\n",
        "\n",
        "from spacy.matcher import Matcher \n",
        "from spacy.tokens import Span \n",
        "from spacy import displacy \n",
        "\n",
        "pd.set_option('display.max_colwidth', 200)"
      ],
      "execution_count": 3,
      "outputs": []
    },
    {
      "cell_type": "code",
      "metadata": {
        "id": "pR2qfzBmVPLW"
      },
      "source": [
        "train_df = pd.read_json('../Dataset/raw_train.json', lines = True)"
      ],
      "execution_count": 18,
      "outputs": []
    },
    {
      "cell_type": "code",
      "metadata": {
        "colab": {
          "base_uri": "https://localhost:8080/"
        },
        "id": "_V5kbThOchQ_",
        "outputId": "cbae8ebe-db26-45c0-a3dc-2a22e60812e3"
      },
      "source": [
        "train_df['sentText'].head(10)"
      ],
      "execution_count": 21,
      "outputs": [
        {
          "output_type": "execute_result",
          "data": {
            "text/plain": [
              "0                                                                                              Massachusetts ASTON MAGNA Great Barrington ; also at Bard College , Annandale-on-Hudson , N.Y. , July 1-Aug .\n",
              "1                                                                                                                                       North Carolina EASTERN MUSIC FESTIVAL Greensboro , June 25-July 30 .\n",
              "2                               It will be the final movie credited to Debra Hill , a film producer and native of Haddonfield , who produced '' Halloween '' and was considered a pioneering woman in film .\n",
              "3    In a 3-0 victory over the Crew on Saturday in Columbus , Ohio , goalkeeper Zach Wells stopped Kyle Martino 's penalty kick , only the third unsuccessful penalty in 20 attempts in M.L.S. this season .\n",
              "4    The United States ambassador to Mexico , Tony Garza , said in a statement that he had directed the American Consulate in Nuevo Laredo to reopen on Monday , a week after he ordered it closed becaus...\n",
              "5                      Under pressure from Mr. Kerkorian and other disgruntled shareholders , Mr. Wagoner started talks on Friday in Detroit with Carlos Ghosn , the chief executive of Renault and Nissan .\n",
              "6    Mr. Ferrer still holds commanding leads over the other two Democrats in the race -- United States Representative Anthony D. Weiner of Brooklyn and Queens , and City Council Speaker Gifford Miller ...\n",
              "7    United States Representative Charles B. Rangel said yesterday that he would endorse C. Virginia Fields in New York City 's Democratic mayoral primary , giving her a jolt of momentum and delivering...\n",
              "8    These are tough changes , and some of them will be quite controversial among our colleagues here , '' Senator Joseph I. Lieberman , Democrat of Connecticut , said Thursday as he endorsed a plan de...\n",
              "9                                                                                                        Quebec , Canada 's second most populous province , after Ontario , has not decided to go that far .\n",
              "Name: sentText, dtype: object"
            ]
          },
          "metadata": {
            "tags": []
          },
          "execution_count": 21
        }
      ]
    },
    {
      "cell_type": "code",
      "metadata": {
        "colab": {
          "base_uri": "https://localhost:8080/"
        },
        "id": "NgiAYTJGqH2w",
        "outputId": "3ab50f82-1565-411e-e656-763d89af156b"
      },
      "source": [
        "# Matcher class object\n",
        "matcher = Matcher(loader.vocab)\n",
        "\n",
        "#define the pattern\n",
        "pattern = [{'DEP':'compound', 'OP':\"?\"}, # adjectival modifier\n",
        "           {'POS':'PROPN'},\n",
        "           {'POS': 'VERB'},\n",
        "           {'DEP': 'agent', 'OP':\"?\"},\n",
        "           {'POS': 'PROPN'}]\n",
        "\n",
        "\n",
        "#add pattern\n",
        "matcher.add(\"matching_1\", None, pattern)\n",
        "\n",
        "# Selecting list of sentences having pattern\n",
        "matched_phrases = []\n",
        "for i in tqdm(range(len(train_df['sentText']))):\n",
        "  doc = loader(train_df['sentText'][i])\n",
        "  matches = matcher(doc)\n",
        "  if(len(matches)):\n",
        "    span = doc[matches[0][1]:matches[0][2]]\n",
        "    matched_phrases.append([train_df['sentText'][i],span.text])"
      ],
      "execution_count": 23,
      "outputs": [
        {
          "output_type": "stream",
          "text": [
            "  0%|          | 3/56196 [00:00<34:45, 26.95it/s]"
          ],
          "name": "stderr"
        },
        {
          "output_type": "stream",
          "text": [
            "Steve Jobs founded Apple\n"
          ],
          "name": "stdout"
        },
        {
          "output_type": "stream",
          "text": [
            "100%|██████████| 56196/56196 [36:20<00:00, 25.77it/s]\n"
          ],
          "name": "stderr"
        }
      ]
    },
    {
      "cell_type": "markdown",
      "metadata": {
        "id": "BDoFi_aZUh95"
      },
      "source": [
        "**SAVE IN NUMPY ARRAY**"
      ]
    },
    {
      "cell_type": "code",
      "metadata": {
        "id": "89slw2q8yjsp"
      },
      "source": [
        "from numpy import asarray\n",
        "from numpy import save\n",
        "# define data\n",
        "data = asarray(matched_phrases)\n",
        "# save to npy file\n",
        "save('Data.npy', data)"
      ],
      "execution_count": 42,
      "outputs": []
    },
    {
      "cell_type": "markdown",
      "metadata": {
        "id": "Fv7V0N-sUrae"
      },
      "source": [
        "**LOAD NUMPY ARRAY**"
      ]
    },
    {
      "cell_type": "code",
      "metadata": {
        "id": "zGRF2ii3UWdr"
      },
      "source": [
        "from numpy import load\n",
        "data = load('Data.npy')"
      ],
      "execution_count": 43,
      "outputs": []
    },
    {
      "cell_type": "code",
      "metadata": {
        "id": "jOqQdXm05qxN"
      },
      "source": [
        "def get_entities_relations(matcher, sentence):\n",
        "  ## Match phrase and return e&r for the given matcher class else return -1\n",
        "\n",
        "  sentence = loader(sentence)\n",
        "  matches = matcher(sentence)\n",
        "  entity1 = -1\n",
        "  entity2 = -1\n",
        "  relation = -1\n",
        "  if(len(matches)):\n",
        "    span = doc[matches[0][1]:matches[0][2]]\n",
        "    useful_text = span.text\n",
        "    sentence = loader(str(useful_text))\n",
        "    sent_last_index = len(sentence)-1\n",
        "    entity2 = sentence[sent_last_index]\n",
        "    if (sentence[1].pos_ == 'PROPN'):\n",
        "      entity1 = (\" \".join([str(j.text) for j in sentence[0:2]]))\n",
        "    else:\n",
        "      entity1 = sentence[0]\n",
        "    for word in sentence:\n",
        "      if((word.pos_ == 'VERB') or (word.pos_ == 'ADJ')):\n",
        "        relation = word.text\n",
        "        break\n",
        "  return entity1, entity2, relation"
      ],
      "execution_count": 56,
      "outputs": []
    },
    {
      "cell_type": "code",
      "metadata": {
        "colab": {
          "base_uri": "https://localhost:8080/"
        },
        "id": "g1IETpgZXGLl",
        "outputId": "ccd976b0-ad2d-4f51-88f4-9450c90b5069"
      },
      "source": [
        "## Extracting entities and relations for particular pattern\n",
        "\n",
        "loader = spacy.load('en_core_web_sm')\n",
        "entity1 = []\n",
        "entity2 = []\n",
        "relations = []\n",
        "sentText = []\n",
        "for index in tqdm(range(len(data))):\n",
        "  sentence = loader(str(data[index][1]))\n",
        "  sent_last_index = len(sentence)-1\n",
        "  entity2.append(sentence[sent_last_index])\n",
        "  if (sentence[1].pos_ == 'PROPN'):\n",
        "    entity1.append((\" \".join([str(j.text) for j in sentence[0:2]])))\n",
        "  else:\n",
        "    entity1.append(sentence[0])\n",
        "  sentText.append(str(data[index][0]))\n",
        "  \n",
        "  for word in sentence:\n",
        "    if((word.pos_ == 'VERB') or (word.pos_ == 'ADJ')):\n",
        "      relations.append(word.text)\n",
        "      break\n",
        "  if(len(entity2) > len(relations)):\n",
        "    entity1.pop()\n",
        "    entity2.pop()\n",
        "    sentText.pop()"
      ],
      "execution_count": 45,
      "outputs": [
        {
          "output_type": "stream",
          "text": [
            "100%|██████████| 1587/1587 [00:51<00:00, 30.83it/s]\n"
          ],
          "name": "stderr"
        }
      ]
    },
    {
      "cell_type": "code",
      "metadata": {
        "id": "c906RBeizWug",
        "colab": {
          "base_uri": "https://localhost:8080/"
        },
        "outputId": "7011daec-25c4-42c3-97bb-744ba93e2ae2"
      },
      "source": [
        "# Total Entities, Relations and Sentences Extracted\n",
        "print(\n",
        "    \"Total Entity1 = \", len(entity1),\n",
        "    \"\\n Total Entity2 = \", len(entity2),\n",
        "    \"\\n Total Relation = \", len(relations),\n",
        "    \"\\n Total Sentence = \", len(sentText)\n",
        ")"
      ],
      "execution_count": 46,
      "outputs": [
        {
          "output_type": "stream",
          "text": [
            "Total Entity1 =  1553 \n",
            " Total Entity2 =  1553 \n",
            " Total Relation =  1553 \n",
            " Total Sentence =  1553\n"
          ],
          "name": "stdout"
        }
      ]
    },
    {
      "cell_type": "code",
      "metadata": {
        "id": "-FmQ8zD3oyG4"
      },
      "source": [
        "dictionary = {\"Sentence\": sentText, \"Entity1\" : entity1, \"Entity2\" : entity2, \"relation\" : relations}"
      ],
      "execution_count": 47,
      "outputs": []
    },
    {
      "cell_type": "code",
      "metadata": {
        "id": "DfoKHmio3_SZ"
      },
      "source": [
        "df = pd.DataFrame(dictionary)"
      ],
      "execution_count": 48,
      "outputs": []
    },
    {
      "cell_type": "code",
      "metadata": {
        "colab": {
          "base_uri": "https://localhost:8080/",
          "height": 276
        },
        "id": "5BwAqp_e4HlI",
        "outputId": "486b290e-94fc-4389-aaca-09d2e99a76c5"
      },
      "source": [
        "df.head()"
      ],
      "execution_count": 49,
      "outputs": [
        {
          "output_type": "execute_result",
          "data": {
            "text/html": [
              "<div>\n",
              "<style scoped>\n",
              "    .dataframe tbody tr th:only-of-type {\n",
              "        vertical-align: middle;\n",
              "    }\n",
              "\n",
              "    .dataframe tbody tr th {\n",
              "        vertical-align: top;\n",
              "    }\n",
              "\n",
              "    .dataframe thead th {\n",
              "        text-align: right;\n",
              "    }\n",
              "</style>\n",
              "<table border=\"1\" class=\"dataframe\">\n",
              "  <thead>\n",
              "    <tr style=\"text-align: right;\">\n",
              "      <th></th>\n",
              "      <th>Sentence</th>\n",
              "      <th>Entity1</th>\n",
              "      <th>Entity2</th>\n",
              "      <th>relation</th>\n",
              "    </tr>\n",
              "  </thead>\n",
              "  <tbody>\n",
              "    <tr>\n",
              "      <th>0</th>\n",
              "      <td>In a 3-0 victory over the Crew on Saturday in Columbus , Ohio , goalkeeper Zach Wells stopped Kyle Martino 's penalty kick , only the third unsuccessful penalty in 20 attempts in M.L.S. this season .</td>\n",
              "      <td>Zach Wells</td>\n",
              "      <td>Kyle</td>\n",
              "      <td>stopped</td>\n",
              "    </tr>\n",
              "    <tr>\n",
              "      <th>1</th>\n",
              "      <td>NEARLY two years after Charles Taylor fled Monrovia under pressure from advancing rebels and a force of Marines on ships off Liberia , he sits exiled in Nigeria , plotting to undermine an internat...</td>\n",
              "      <td>Charles Taylor</td>\n",
              "      <td>Monrovia</td>\n",
              "      <td>fled</td>\n",
              "    </tr>\n",
              "    <tr>\n",
              "      <th>2</th>\n",
              "      <td>Defensively , the Giants rarely touched Eagles quarterback Donovan McNabb , and the secondary kept away from Philadelphia receivers as if they were toxic .</td>\n",
              "      <td>Eagles</td>\n",
              "      <td>Donovan</td>\n",
              "      <td>quarterback</td>\n",
              "    </tr>\n",
              "    <tr>\n",
              "      <th>3</th>\n",
              "      <td>On Dec. 25 , in a driving rain , the news that Charles Taylor had attacked Liberia reached Monrovia .</td>\n",
              "      <td>Liberia</td>\n",
              "      <td>Monrovia</td>\n",
              "      <td>reached</td>\n",
              "    </tr>\n",
              "    <tr>\n",
              "      <th>4</th>\n",
              "      <td>And '' The Bright Stream '' and '' Spartacus '' will also be danced at the Orange County Performing Arts Center in Costa Mesa , Calif. , Aug. 9-14 .</td>\n",
              "      <td>Orange County</td>\n",
              "      <td>Arts</td>\n",
              "      <td>Performing</td>\n",
              "    </tr>\n",
              "  </tbody>\n",
              "</table>\n",
              "</div>"
            ],
            "text/plain": [
              "                                                                                                                                                                                                  Sentence  ...     relation\n",
              "0  In a 3-0 victory over the Crew on Saturday in Columbus , Ohio , goalkeeper Zach Wells stopped Kyle Martino 's penalty kick , only the third unsuccessful penalty in 20 attempts in M.L.S. this season .  ...      stopped\n",
              "1  NEARLY two years after Charles Taylor fled Monrovia under pressure from advancing rebels and a force of Marines on ships off Liberia , he sits exiled in Nigeria , plotting to undermine an internat...  ...         fled\n",
              "2                                              Defensively , the Giants rarely touched Eagles quarterback Donovan McNabb , and the secondary kept away from Philadelphia receivers as if they were toxic .  ...  quarterback\n",
              "3                                                                                                    On Dec. 25 , in a driving rain , the news that Charles Taylor had attacked Liberia reached Monrovia .  ...      reached\n",
              "4                                                     And '' The Bright Stream '' and '' Spartacus '' will also be danced at the Orange County Performing Arts Center in Costa Mesa , Calif. , Aug. 9-14 .  ...   Performing\n",
              "\n",
              "[5 rows x 4 columns]"
            ]
          },
          "metadata": {
            "tags": []
          },
          "execution_count": 49
        }
      ]
    },
    {
      "cell_type": "code",
      "metadata": {
        "id": "rn5qZ1dCENnG"
      },
      "source": [
        "df.to_csv('all_matched_pattern.csv')"
      ],
      "execution_count": 50,
      "outputs": []
    },
    {
      "cell_type": "code",
      "metadata": {
        "id": "G4zB30MgEl_k"
      },
      "source": [
        "# Getting Entities and Relations for the following sentence ----\n",
        "sentence = \"Steve Jobs Founded Apple\"\n",
        "matcher = Matcher(loader.vocab)\n",
        "\n",
        "pattern = [{'DEP':'compound', 'OP':\"?\"}, # adjectival modifier\n",
        "           {'POS':'PROPN'},\n",
        "           {'POS': 'VERB'},\n",
        "           {'DEP': 'agent', 'OP':\"?\"},\n",
        "           {'POS': 'PROPN'}]\n",
        "\n",
        "matcher.add(\"matching_1\", None, pattern)\n",
        "loader = spacy.load('en_core_web_sm')\n",
        "e1, e2, rel = get_entities_relations(matcher,sentence)"
      ],
      "execution_count": 63,
      "outputs": []
    },
    {
      "cell_type": "code",
      "metadata": {
        "colab": {
          "base_uri": "https://localhost:8080/"
        },
        "id": "aWjMbj-oCABN",
        "outputId": "75fb6fd7-d862-40ff-f73f-f7e29df244f2"
      },
      "source": [
        "print(\n",
        "    \"\\n==============================\\n\",\n",
        "    \"Entity 1 = \", e1,\n",
        "    \"\\nRelation = \", rel,\n",
        "    \"\\nEntity 2 = \", e2,\n",
        "    \"\\n==============================\\n\",\n",
        ")\n",
        "\n",
        "\n",
        "\n",
        "print(\"\\n\\n\\n If (-1) => following content is not found\")"
      ],
      "execution_count": 64,
      "outputs": [
        {
          "output_type": "stream",
          "text": [
            "\n",
            "==============================\n",
            " Entity 1 =  Steve Jobs \n",
            "Relation =  Founded \n",
            "Entity 2 =  Apple \n",
            "==============================\n",
            "\n",
            "\n",
            "\n",
            "\n",
            " If (-1) => following content is not found\n"
          ],
          "name": "stdout"
        }
      ]
    },
    {
      "cell_type": "code",
      "metadata": {
        "id": "Sti5miAJCXSO"
      },
      "source": [],
      "execution_count": null,
      "outputs": []
    }
  ]
}